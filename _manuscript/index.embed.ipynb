{
 "cells": [
  {
   "cell_type": "markdown",
   "metadata": {},
   "source": [
    "# Internet Use, Physical Activity, and Problematic Behavor in Children\n",
    "\n",
    "Eric Mossotti (none)"
   ],
   "id": "15b59afe-713e-4bcf-8185-ca7d11a7c181"
  },
  {
   "cell_type": "code",
   "execution_count": 1,
   "metadata": {},
   "outputs": [
    {
     "output_type": "display_data",
     "metadata": {},
     "data": {
      "text/plain": [
       "2"
      ]
     }
    }
   ],
   "source": [
    "1+1"
   ],
   "id": "2004f1c0"
  },
  {
   "cell_type": "markdown",
   "metadata": {},
   "source": [
    "Bash kaggle command to import the .zip file data to the local directory."
   ],
   "id": "314756e6"
  },
  {
   "cell_type": "code",
   "execution_count": 2,
   "metadata": {},
   "outputs": [],
   "source": [
    "!kaggle competitions download -c child-mind-institute-problematic-internet-use "
   ],
   "id": "212b3e86"
  },
  {
   "cell_type": "code",
   "execution_count": 3,
   "metadata": {},
   "outputs": [
    {
     "output_type": "stream",
     "name": "stdout",
     "text": [
      "Directory already exists, skipped extraction to extracted_files . ."
     ]
    }
   ],
   "source": [
    "import zipfile\n",
    "import os\n",
    "\n",
    "zip_path = \"child-mind-institute-problematic-internet-use.zip\"\n",
    "\n",
    "try:\n",
    "     os.mkdir(\"extracted_files\")\n",
    "     with zipfile.ZipFile(zip_path) as zf:\n",
    "          zipfile.ZipFile.extractall(zf, path = \"extracted_files\")\n",
    "          print(f\"Directory, 'extracted_files/' created.\")\n",
    "          \n",
    "except FileExistsError:\n",
    "     print(f\"Directory already exists, skipped extraction to extracted_files . .\")"
   ],
   "id": "11346cb4"
  },
  {
   "cell_type": "code",
   "execution_count": 4,
   "metadata": {},
   "outputs": [
    {
     "output_type": "display_data",
     "metadata": {},
     "data": {
      "text/plain": [
       "<duckdb.duckdb.DuckDBPyConnection at 0x7174ccff3c70>"
      ]
     }
    }
   ],
   "source": [
    "import duckdb\n",
    "import pandas as pd\n",
    "\n",
    "#conn = duckdb.connect('database/data.duckdb')\n",
    "conn = duckdb.connect(':memory:')\n",
    "conn.execute(f\"SET memory_limit = '24GB';\")\n",
    "conn.execute(f\"SET default_order = 'ASC';\")"
   ],
   "id": "25700024"
  },
  {
   "cell_type": "code",
   "execution_count": 5,
   "metadata": {},
   "outputs": [
    {
     "output_type": "stream",
     "name": "stdout",
     "text": [
      "d r o p p i n g . . .\n",
      "sii_enum was not dropped!\n",
      "age_enum was not dropped!\n",
      "sex_enum was not dropped!\n",
      "pciat_season_enum was not dropped!\n",
      "weekday_enum was not dropped!\n",
      "quarter_enum was not dropped!\n",
      "hour_enum was not dropped!\n",
      "minute_enum was not dropped!\n",
      "second_enum was not dropped!\n",
      "id_actigraphy_enum was not dropped!\n",
      "\n",
      "c r e a t i n g . . .\n",
      "disease_risk_enum was created successfully!\n",
      "enroll_season_enum was created successfully!\n",
      "sii_enum was created successfully!\n",
      "age_enum was created successfully!\n",
      "sex_enum was created successfully!\n",
      "pciat_season_enum was created successfully!\n",
      "quarter_enum was created successfully!\n",
      "weekday_enum was created successfully!\n",
      "hour_enum was created successfully!\n",
      "minute_enum was created successfully!\n",
      "second_enum was created successfully!\n",
      "id_actigraphy_enum was created successfully!\n",
      "internet_hours_enum was created successfully!"
     ]
    }
   ],
   "source": [
    "#%load 'scripts/DuckDBEnumTypeCreator.py'\n",
    "from scripts.DuckDBEnumTypeCreator import *\n",
    "\n",
    "\n",
    "enum_destructor = DuckDBEnumTypeCreator(conn)\n",
    "\n",
    "enums = ['sii_enum', 'age_enum', 'sex_enum', 'pciat_season_enum', 'weekday_enum', 'quarter_enum', 'hour_enum', 'minute_enum', 'second_enum', 'id_actigraphy_enum']\n",
    "\n",
    "print(f\"d r o p p i n g . . .\")\n",
    "for e in enums:\n",
    "  enum_destructor.try_drop(e)\n",
    "\n",
    "enum_creator = DuckDBEnumTypeCreator(conn)\n",
    "\n",
    "#siiSeries = pd.Series(data = ['None', 'Mild', 'Moderate', 'Severe'], dtype = str)\n",
    "siiSeries = pd.Series(data = ['0', '1', '2', '3'], dtype = str)\n",
    "\n",
    "ageSeries = pd.Series(data = range(5, 23), dtype = str)\n",
    "sexSeries = pd.Series(data = ['0', '1'], dtype = str)\n",
    "pciatSeasonSeries = pd.Series(data = ['Fall', 'Spring', 'Summer', 'Winter'], dtype = str)\n",
    "\n",
    "internetHrsSeries = pd.Series(data = ['0', '1', '2', '3'], dtype = str)\n",
    "\n",
    "quarterSeries = pd.Series(data = range(1, 5), dtype = str)\n",
    "weekdaySeries = pd.Series(data = range(1, 8), dtype = str)\n",
    "\n",
    "hourSeries = pd.Series(data = range(0, 24), dtype = str)\n",
    "minuteSeries = pd.Series(data = range(0, 60), dtype = str)\n",
    "secondSeries = pd.Series(data = range(0, 60), dtype = str)\n",
    "\n",
    "diseaseRiskSeries = pd.Series(data = ['Underweight', 'Normal', 'Increased', 'High', 'Very High', 'Extremely High'], dtype = str)\n",
    "\n",
    "id_df = conn.execute(f\"\"\"\n",
    "     SELECT \n",
    "          DISTINCT(id) AS id\n",
    "     FROM \n",
    "          read_parquet(\n",
    "               'extracted_files/series_train*/*/*',\n",
    "     hive_partitioning = true) \n",
    "     ORDER BY \n",
    "          id ASC;\n",
    "     \"\"\").df() \n",
    "\n",
    "idList = id_df['id'].to_list()\n",
    "idSeries = pd.Series(data = idList, dtype = str)\n",
    "\n",
    "enumDict = {\n",
    "  'disease_risk_enum': f\"{tuple(diseaseRiskSeries)}\",\n",
    "  'enroll_season_enum': f\"{tuple(pciatSeasonSeries)}\",\n",
    "  'sii_enum': f\"{tuple(siiSeries)}\",\n",
    "  'age_enum': f\"{tuple(ageSeries)}\",\n",
    "  'sex_enum': f\"{tuple(sexSeries)}\",\n",
    "  'pciat_season_enum': f\"{tuple(pciatSeasonSeries)}\",\n",
    "  'quarter_enum': f\"{tuple(quarterSeries)}\",\n",
    "  'weekday_enum': f\"{tuple(weekdaySeries)}\",\n",
    "  'hour_enum': f\"{tuple(hourSeries)}\",\n",
    "  'minute_enum': f\"{tuple(minuteSeries)}\",\n",
    "  'second_enum': f\"{tuple(secondSeries)}\",\n",
    "  'id_actigraphy_enum': f\"{tuple(idSeries)}\",\n",
    "  'internet_hours_enum': f\"{tuple(internetHrsSeries)}\"\n",
    "  }\n",
    "\n",
    "print(f\"\\nc r e a t i n g . . .\")\n",
    "for type_str, enum_str in enumDict.items():\n",
    "  enum_creator.try_create(type_str, enum_str)"
   ],
   "id": "23a623ec"
  },
  {
   "cell_type": "code",
   "execution_count": 6,
   "metadata": {},
   "outputs": [],
   "source": [
    "import pandas as pd\n",
    "\n",
    "trainCsvDf = pd.read_csv(\n",
    "  \"extracted_files/train.csv\")\n",
    "\n",
    "testCsvDf = pd.read_csv(\n",
    "  \"extracted_files/test.csv\")\n",
    "  \n",
    "dictDf = pd.read_csv(\n",
    "  \"extracted_files/data_dictionary.csv\")"
   ],
   "id": "7fd196cd"
  },
  {
   "cell_type": "code",
   "execution_count": 7,
   "metadata": {},
   "outputs": [],
   "source": [
    "trainCsvDf.columns = trainCsvDf.columns.str.replace('-','_') \n",
    "trainCsvDf.columns = trainCsvDf.columns.str.lower() \n",
    "\n",
    "testCsvDf.columns = testCsvDf.columns.str.replace('-','_') \n",
    "testCsvDf.columns = testCsvDf.columns.str.lower() \n",
    "\n",
    "dictDf.Field = dictDf.Field.replace(\"-\", \"_\", regex = True)\n",
    "\n",
    "csvDict = {\n",
    "  \"TrainCsv\": trainCsvDf,\n",
    "  \"TestCsv\": testCsvDf,\n",
    "  \"DataDict\": dictDf\n",
    "  }\n",
    "\n",
    "parquetDict = {\n",
    "  \"ActigraphyTrain\": 'extracted_files/series_train.parquet*/*/*',\n",
    "  \"ActigraphyTest\": 'extracted_files/series_test*/*/*'\n",
    "  }"
   ],
   "id": "baccb445"
  },
  {
   "cell_type": "code",
   "execution_count": 8,
   "metadata": {},
   "outputs": [
    {
     "output_type": "stream",
     "name": "stdout",
     "text": [
      "Successfully created table: TrainCsv, Row count: 3960\n",
      "Successfully created table: TestCsv, Row count: 20\n",
      "Successfully created table: DataDict, Row count: 81"
     ]
    },
    {
     "output_type": "display_data",
     "metadata": {},
     "data": {
      "text/html": [
       "<script type=\"application/vnd.jupyter.widget-view+json\">\n",
       "{\"model_id\":\"08cce8f8c32b49f9a29fb2c09392a1fa\",\"version_major\":2,\"version_minor\":0,\"quarto_mimetype\":\"application/vnd.jupyter.widget-view+json\"}\n",
       "</script>"
      ]
     }
    },
    {
     "output_type": "stream",
     "name": "stdout",
     "text": [
      "Successfully wrote dataset: ActigraphyTrain, Row count: 314569149\n",
      "Successfully wrote dataset: ActigraphyTest, Row count: 439726"
     ]
    }
   ],
   "source": [
    "#import pyarrow as pa\n",
    "#import pyarrow.dataset as ds\n",
    "%load \"scripts/setup_duckdb_pipeline.py\"\n",
    "from scripts.setup_duckdb_pipeline import *\n",
    "\n",
    "setup_duckdb_pipeline(csvDict, parquetDict, conn)"
   ],
   "id": "4b044d9e"
  },
  {
   "cell_type": "code",
   "execution_count": 9,
   "metadata": {},
   "outputs": [],
   "source": [
    "coltype_overview = conn.execute(f\"\"\"\n",
    "  SELECT column_name, data_type\n",
    "  FROM information_schema.columns\n",
    "  WHERE table_name = 'TrainCsv';\n",
    "\"\"\").df()\n",
    "\n",
    "# map the column names with data types\n",
    "col_dict = dict(zip(coltype_overview.column_name, coltype_overview.data_type))"
   ],
   "id": "09a6d41c"
  },
  {
   "cell_type": "code",
   "execution_count": 10,
   "metadata": {},
   "outputs": [
    {
     "output_type": "stream",
     "name": "stderr",
     "text": [
      "<>:2: SyntaxWarning: invalid escape sequence '\\S'\n",
      "<>:3: SyntaxWarning: invalid escape sequence '\\S'\n",
      "<>:4: SyntaxWarning: invalid escape sequence '\\S'\n",
      "<>:5: SyntaxWarning: invalid escape sequence '\\S'\n",
      "<>:6: SyntaxWarning: invalid escape sequence '\\S'\n",
      "<>:7: SyntaxWarning: invalid escape sequence '\\S'\n",
      "<>:8: SyntaxWarning: invalid escape sequence '\\S'\n",
      "<>:9: SyntaxWarning: invalid escape sequence '\\S'\n",
      "<>:10: SyntaxWarning: invalid escape sequence '\\S'\n",
      "<>:14: SyntaxWarning: invalid escape sequence '\\S'\n",
      "<>:15: SyntaxWarning: invalid escape sequence '\\S'\n",
      "<>:16: SyntaxWarning: invalid escape sequence '\\S'\n",
      "<>:17: SyntaxWarning: invalid escape sequence '\\S'\n",
      "<>:18: SyntaxWarning: invalid escape sequence '\\S'\n",
      "<>:19: SyntaxWarning: invalid escape sequence '\\S'\n",
      "<>:21: SyntaxWarning: invalid escape sequence '\\S'\n",
      "<>:22: SyntaxWarning: invalid escape sequence '\\S'\n",
      "<>:2: SyntaxWarning: invalid escape sequence '\\S'\n",
      "<>:3: SyntaxWarning: invalid escape sequence '\\S'\n",
      "<>:4: SyntaxWarning: invalid escape sequence '\\S'\n",
      "<>:5: SyntaxWarning: invalid escape sequence '\\S'\n",
      "<>:6: SyntaxWarning: invalid escape sequence '\\S'\n",
      "<>:7: SyntaxWarning: invalid escape sequence '\\S'\n",
      "<>:8: SyntaxWarning: invalid escape sequence '\\S'\n",
      "<>:9: SyntaxWarning: invalid escape sequence '\\S'\n",
      "<>:10: SyntaxWarning: invalid escape sequence '\\S'\n",
      "<>:14: SyntaxWarning: invalid escape sequence '\\S'\n",
      "<>:15: SyntaxWarning: invalid escape sequence '\\S'\n",
      "<>:16: SyntaxWarning: invalid escape sequence '\\S'\n",
      "<>:17: SyntaxWarning: invalid escape sequence '\\S'\n",
      "<>:18: SyntaxWarning: invalid escape sequence '\\S'\n",
      "<>:19: SyntaxWarning: invalid escape sequence '\\S'\n",
      "<>:21: SyntaxWarning: invalid escape sequence '\\S'\n",
      "<>:22: SyntaxWarning: invalid escape sequence '\\S'\n",
      "/tmp/ipykernel_52779/746174593.py:2: SyntaxWarning: invalid escape sequence '\\S'\n",
      "  \"Demographic\": \"^id|^sii|^basic\\S+\",\n",
      "/tmp/ipykernel_52779/746174593.py:3: SyntaxWarning: invalid escape sequence '\\S'\n",
      "  \"Physical\": \"^id|^sii|^physical\\S+\",\n",
      "/tmp/ipykernel_52779/746174593.py:4: SyntaxWarning: invalid escape sequence '\\S'\n",
      "  \"FgVital\": \"^id|^sii|^fitness_E\\S+\",\n",
      "/tmp/ipykernel_52779/746174593.py:5: SyntaxWarning: invalid escape sequence '\\S'\n",
      "  \"FgChild\": \"^id|^sii|^fgc\\S+\",\n",
      "/tmp/ipykernel_52779/746174593.py:6: SyntaxWarning: invalid escape sequence '\\S'\n",
      "  \"Bia\": \"^id|^sii|^bia\\S+\",\n",
      "/tmp/ipykernel_52779/746174593.py:7: SyntaxWarning: invalid escape sequence '\\S'\n",
      "  \"Paqa\": \"^id|^sii|^paq_a\\S+\",\n",
      "/tmp/ipykernel_52779/746174593.py:8: SyntaxWarning: invalid escape sequence '\\S'\n",
      "  \"Pciat\": \"^id|^sii|^pciat\\S+\",\n",
      "/tmp/ipykernel_52779/746174593.py:9: SyntaxWarning: invalid escape sequence '\\S'\n",
      "  \"Sds\": \"^id|^sii|^sds\\S+\",\n",
      "/tmp/ipykernel_52779/746174593.py:10: SyntaxWarning: invalid escape sequence '\\S'\n",
      "  \"InternetUse\": \"^id|^sii|^preint\\S+\"\n",
      "/tmp/ipykernel_52779/746174593.py:14: SyntaxWarning: invalid escape sequence '\\S'\n",
      "  \"Demographic_OfTest\": \"^id|^basic\\S+\",\n",
      "/tmp/ipykernel_52779/746174593.py:15: SyntaxWarning: invalid escape sequence '\\S'\n",
      "  \"Physical_OfTest\": \"^id|^physical\\S+\",\n",
      "/tmp/ipykernel_52779/746174593.py:16: SyntaxWarning: invalid escape sequence '\\S'\n",
      "  \"FgVital_OfTest\": \"^id|^fitness_E\\S+\",\n",
      "/tmp/ipykernel_52779/746174593.py:17: SyntaxWarning: invalid escape sequence '\\S'\n",
      "  \"FgChild_OfTest\": \"^id|^fgc\\S+\",\n",
      "/tmp/ipykernel_52779/746174593.py:18: SyntaxWarning: invalid escape sequence '\\S'\n",
      "  \"Bia_OfTest\": \"^id|^bia\\S+\",\n",
      "/tmp/ipykernel_52779/746174593.py:19: SyntaxWarning: invalid escape sequence '\\S'\n",
      "  \"Paqa_OfTest\": \"^id|^paq_a\\S+\",\n",
      "/tmp/ipykernel_52779/746174593.py:21: SyntaxWarning: invalid escape sequence '\\S'\n",
      "  \"Sds_OfTest\": \"^id|^sds\\S+\",\n",
      "/tmp/ipykernel_52779/746174593.py:22: SyntaxWarning: invalid escape sequence '\\S'\n",
      "  \"InternetUse_OfTest\": \"^id|^preint\\S+\""
     ]
    }
   ],
   "source": [
    "regex_dict_train = {\n",
    "  \"Demographic\": \"^id|^sii|^basic\\S+\",\n",
    "  \"Physical\": \"^id|^sii|^physical\\S+\",\n",
    "  \"FgVital\": \"^id|^sii|^fitness_E\\S+\",\n",
    "  \"FgChild\": \"^id|^sii|^fgc\\S+\",\n",
    "  \"Bia\": \"^id|^sii|^bia\\S+\",\n",
    "  \"Paqa\": \"^id|^sii|^paq_a\\S+\",\n",
    "  \"Pciat\": \"^id|^sii|^pciat\\S+\", \n",
    "  \"Sds\": \"^id|^sii|^sds\\S+\",\n",
    "  \"InternetUse\": \"^id|^sii|^preint\\S+\"\n",
    "  }\n",
    "  \n",
    "regex_dict_test = {\n",
    "  \"Demographic_OfTest\": \"^id|^basic\\S+\",\n",
    "  \"Physical_OfTest\": \"^id|^physical\\S+\",\n",
    "  \"FgVital_OfTest\": \"^id|^fitness_E\\S+\",\n",
    "  \"FgChild_OfTest\": \"^id|^fgc\\S+\",\n",
    "  \"Bia_OfTest\": \"^id|^bia\\S+\",\n",
    "  \"Paqa_OfTest\": \"^id|^paq_a\\S+\",\n",
    " # \"Pciat_OfTest\": \"^id|^pciat\\S+\", \n",
    "  \"Sds_OfTest\": \"^id|^sds\\S+\",\n",
    "  \"InternetUse_OfTest\": \"^id|^preint\\S+\"\n",
    "  }"
   ],
   "id": "4a4c681d"
  },
  {
   "cell_type": "markdown",
   "metadata": {},
   "source": [
    "``` {r}\n",
    "#| file: \"scripts/create_with_regex.py\"\n",
    "```"
   ],
   "id": "938a0ddd"
  },
  {
   "cell_type": "code",
   "execution_count": 11,
   "metadata": {},
   "outputs": [],
   "source": [
    "import re\n",
    "%load \"scripts/create_with_regex.py\"\n",
    "from scripts.create_with_regex import *\n",
    "\n",
    "for new_table_name, regex_pattern in regex_dict_train.items():\n",
    "  create_table_with_regex_columns(\n",
    "    conn, \n",
    "    'TrainCsv', \n",
    "    new_table_name, \n",
    "    regex_pattern, \n",
    "    col_dict\n",
    "    ) \n",
    "\n",
    "for new_table_name, regex_pattern in regex_dict_test.items():\n",
    "  create_table_with_regex_columns(\n",
    "    conn, \n",
    "    'TestCsv', \n",
    "    new_table_name, \n",
    "    regex_pattern, \n",
    "    col_dict\n",
    "    )"
   ],
   "id": "6d9fc371"
  },
  {
   "cell_type": "markdown",
   "metadata": {},
   "source": [
    "Replace time_of_day with hour_of_day as a float. From this we can do any time series analysis desired."
   ],
   "id": "d80ed48e"
  },
  {
   "cell_type": "code",
   "execution_count": 12,
   "metadata": {},
   "outputs": [
    {
     "output_type": "display_data",
     "metadata": {},
     "data": {
      "text/html": [
       "<script type=\"application/vnd.jupyter.widget-view+json\">\n",
       "{\"model_id\":\"82d2b9fc7f4e4de2a11946a84607316e\",\"version_major\":2,\"version_minor\":0,\"quarto_mimetype\":\"application/vnd.jupyter.widget-view+json\"}\n",
       "</script>"
      ]
     }
    },
    {
     "output_type": "display_data",
     "metadata": {},
     "data": {
      "text/plain": [
       "<duckdb.duckdb.DuckDBPyConnection at 0x7174ccff3c70>"
      ]
     }
    }
   ],
   "source": [
    "# the large number is 3.6 * (10 ** 12)\n",
    "conn.execute(f\"\"\"\n",
    "CREATE OR REPLACE TABLE ActigraphyTrain AS\n",
    "SELECT \n",
    "  * EXCLUDE (time_of_day),\n",
    "  (time_of_day / 3600000000000) AS hour_of_day\n",
    "FROM \n",
    "  ActigraphyTrain;\n",
    "  \"\"\")"
   ],
   "id": "45a9484b"
  },
  {
   "cell_type": "code",
   "execution_count": 13,
   "metadata": {},
   "outputs": [],
   "source": [
    "conn.sql(f\"\"\"\n",
    "CREATE OR REPLACE TABLE \n",
    "  Analysis \n",
    "AS\n",
    "  SELECT\n",
    "    * EXCLUDE(\n",
    "      basic_demos_enroll_season\n",
    "      ,basic_demos_age\n",
    "      ,basic_demos_sex\n",
    "      ,sii\n",
    "      )\n",
    "    ,basic_demos_enroll_season::TEXT::enroll_season_enum AS enroll_season\n",
    "    ,basic_demos_age::TEXT::age_enum AS age\n",
    "    ,basic_demos_sex::TEXT AS sex\n",
    "    ,sii::INTEGER::TEXT::sii_enum AS sii\n",
    "  FROM \n",
    "    Demographic\n",
    "  ORDER BY\n",
    "    id ASC;\n",
    "  \"\"\")"
   ],
   "id": "cf273142"
  },
  {
   "cell_type": "code",
   "execution_count": 14,
   "metadata": {},
   "outputs": [
    {
     "output_type": "display_data",
     "metadata": {},
     "data": {
      "text/html": [
       "<script type=\"application/vnd.jupyter.widget-view+json\">\n",
       "{\"model_id\":\"6fb01ce04d734fe0b7b249c90231ef3a\",\"version_major\":2,\"version_minor\":0,\"quarto_mimetype\":\"application/vnd.jupyter.widget-view+json\"}\n",
       "</script>"
      ]
     }
    }
   ],
   "source": [
    "conn.sql(f\"\"\"\n",
    "CREATE OR REPLACE TABLE \n",
    "  Analysis\n",
    "AS\n",
    "  SELECT\n",
    "    at.id\n",
    "    ,ay.* EXCLUDE (id)\n",
    "    ,at.hour_of_day\n",
    "    ,at.light\n",
    "  FROM \n",
    "    ActigraphyTrain at \n",
    "  LEFT JOIN \n",
    "    Analysis ay\n",
    "  ON \n",
    "    ay.id = at.id;\n",
    "    \"\"\")"
   ],
   "id": "4273c50a"
  },
  {
   "cell_type": "markdown",
   "metadata": {},
   "source": [
    "Programmatically extract the time of day column’s quartile related info for future analysis."
   ],
   "id": "256684d0"
  },
  {
   "cell_type": "code",
   "execution_count": 15,
   "metadata": {},
   "outputs": [],
   "source": [
    "def quartiler (\n",
    "  conn: duckdb.duckdb, \n",
    "  col_name: str, \n",
    "  source_name: str) -> dict:\n",
    "  \"\"\"\n",
    "  INPUTS:\n",
    "    DuckDB connection, column name, and source name\n",
    "    \n",
    "  RETURNS: \n",
    "    A dictionary object with values represented by intuitive key labels.\n",
    "  \"\"\"\n",
    "\n",
    "  summaryDf = conn.sql(f\"\"\"\n",
    "  SUMMARIZE\n",
    "  SELECT\n",
    "    {col_name}\n",
    "  FROM \n",
    "    {source_name};\"\"\").df()\n",
    "\n",
    "  quartileDict = {\n",
    "    'min': summaryDf['min'][0]\n",
    "    ,'Q1': summaryDf.q25[0]\n",
    "    ,'Q2': summaryDf.q50[0]\n",
    "    ,'Q3': summaryDf.q75[0]\n",
    "    ,'max': summaryDf['max'][0]\n",
    "    }\n",
    "  \n",
    "  return quartileDict"
   ],
   "id": "6708d0f8"
  },
  {
   "cell_type": "code",
   "execution_count": 16,
   "metadata": {},
   "outputs": [
    {
     "output_type": "display_data",
     "metadata": {},
     "data": {
      "text/html": [
       "<script type=\"application/vnd.jupyter.widget-view+json\">\n",
       "{\"model_id\":\"b57655c7549d48f191f7d7db4bb58e95\",\"version_major\":2,\"version_minor\":0,\"quarto_mimetype\":\"application/vnd.jupyter.widget-view+json\"}\n",
       "</script>"
      ]
     }
    }
   ],
   "source": [
    "x = quartiler(conn, 'hour_of_day', 'ActigraphyTrain')"
   ],
   "id": "9862ada5"
  },
  {
   "cell_type": "markdown",
   "metadata": {},
   "source": [
    "Further filter by using the desired quartile bounds for exploring possible relationships between parameters. Create a new column that can now be used in the csv derived tables. Replace the original table using the results from the data transformation steps."
   ],
   "id": "eef44299"
  },
  {
   "cell_type": "code",
   "execution_count": 17,
   "metadata": {},
   "outputs": [],
   "source": [
    "quartuples = pd.Series(\n",
    "  data = \n",
    "  [('min','Q1')\n",
    "  ,('Q1', 'Q2')\n",
    "  ,('Q2', 'Q3')\n",
    "  ,('Q3' ,'max')]\n",
    "  ,index =\n",
    "  ['min_q1'\n",
    "  ,'q1_q2'\n",
    "  ,'q2_q3'\n",
    "  ,'q3_max'])"
   ],
   "id": "a31756b6"
  },
  {
   "cell_type": "code",
   "execution_count": 18,
   "metadata": {},
   "outputs": [],
   "source": [
    "def intermediateLighter(\n",
    "  conn: duckdb.duckdb, \n",
    "  new_tables: list, \n",
    "  x: dict, \n",
    "  quartuples: None) -> None:\n",
    "  \n",
    "  for i in list(range(4)):\n",
    "    conn.sql(f\"\"\"\n",
    "    CREATE OR REPLACE TABLE '{new_tables[i]}' AS\n",
    "    SELECT\n",
    "      * EXCLUDE(light, hour_of_day),\n",
    "      AVG(light) AS '{quartuples.index[i]}'\n",
    "    FROM \n",
    "      Analysis\n",
    "    WHERE \n",
    "      hour_of_day BETWEEN \n",
    "        '{x[quartuples.iloc[i][0]]}'::DOUBLE \n",
    "        AND '{x[quartuples.iloc[i][1]]}'::DOUBLE\n",
    "    GROUP BY \n",
    "      ALL\n",
    "    ORDER BY \n",
    "      id ASC;\n",
    "    \"\"\")"
   ],
   "id": "4f1c89c8"
  },
  {
   "cell_type": "markdown",
   "metadata": {},
   "source": [
    "#### Light"
   ],
   "id": "75d840fb"
  },
  {
   "cell_type": "code",
   "execution_count": 19,
   "metadata": {},
   "outputs": [],
   "source": [
    "new_tables = ['Light1', 'Light2', 'Light3', 'Light4']"
   ],
   "id": "0c7e510a"
  },
  {
   "cell_type": "code",
   "execution_count": 20,
   "metadata": {},
   "outputs": [
    {
     "output_type": "display_data",
     "metadata": {},
     "data": {
      "text/html": [
       "<script type=\"application/vnd.jupyter.widget-view+json\">\n",
       "{\"model_id\":\"7feed0c9f7b14da180e7343027419d2d\",\"version_major\":2,\"version_minor\":0,\"quarto_mimetype\":\"application/vnd.jupyter.widget-view+json\"}\n",
       "</script>"
      ]
     }
    },
    {
     "output_type": "display_data",
     "metadata": {},
     "data": {
      "text/html": [
       "<script type=\"application/vnd.jupyter.widget-view+json\">\n",
       "{\"model_id\":\"80e7a3b9449545beb7d8665d92c47b3b\",\"version_major\":2,\"version_minor\":0,\"quarto_mimetype\":\"application/vnd.jupyter.widget-view+json\"}\n",
       "</script>"
      ]
     }
    },
    {
     "output_type": "display_data",
     "metadata": {},
     "data": {
      "text/html": [
       "<script type=\"application/vnd.jupyter.widget-view+json\">\n",
       "{\"model_id\":\"7b8390a3e73f4769853b30b759717bb7\",\"version_major\":2,\"version_minor\":0,\"quarto_mimetype\":\"application/vnd.jupyter.widget-view+json\"}\n",
       "</script>"
      ]
     }
    },
    {
     "output_type": "display_data",
     "metadata": {},
     "data": {
      "text/html": [
       "<script type=\"application/vnd.jupyter.widget-view+json\">\n",
       "{\"model_id\":\"c54c542975a94f0fbfd946430e6864b3\",\"version_major\":2,\"version_minor\":0,\"quarto_mimetype\":\"application/vnd.jupyter.widget-view+json\"}\n",
       "</script>"
      ]
     }
    }
   ],
   "source": [
    "intermediateLighter(conn, new_tables, x, quartuples)"
   ],
   "id": "836cbf24"
  },
  {
   "cell_type": "markdown",
   "metadata": {},
   "source": [
    "#### Join Lux Data From Actigraphy Dataset With HBN Data\n",
    "\n",
    "Join the parquet dataset’s aggregated lux/light columns with CSV derived data on the respective id columns. There were about 990 or so matching IDs."
   ],
   "id": "20f75986"
  },
  {
   "cell_type": "code",
   "execution_count": 21,
   "metadata": {},
   "outputs": [
    {
     "output_type": "display_data",
     "metadata": {},
     "data": {
      "text/plain": [
       "┌──────────────────────────────────────────────────────────────────────────────────────────────────────────────────────────────────────────────────────────────────────────────────────────────────────────────────────────────────────────────────────────────────────────────────────────────────────────────────────────────────────────────────────────────────────────────────────────────────────────────────────────────────────────────────────────────────────────────────────────────────────────────────────────────────────────────────────────────────────────────────────────────────────────────────────────────────────────────────────────────────────────────────────────────────────────────────────────────────────────────────────────────────────────────────────────────────────────────────────────────────────────────────────────────────────────────────────────────────────────────────────────────────────────────────────────────────────────────────────────────────────────────────────────────────────────────────────────────────────────────────────────────────────────────────────────────────────────────────────────────────────────────────────────────────────────────────────────────────────────────────────────────────────────────────────────────────────────────────────────────────────────────────────────────────────────────────────────────────────────────────────────────────────────────────────────────────────────────────────────────────────────────────────────────────────────────────────────────────────────────────────────────────────────────────────────────────────────────────────────────────────────────────────────────────────────────────────────────────────────────────────────────────────────────────────────────────────────────────────────────────────────────────────────────────────────────────────────────────────────────────────────────────────────────────────────────────────────────────────────────────────────────────────────────────────────────────────────────────────────────────────────────────────────────────────────────────────────────────────────────────────────────────────────────────────────────────────────────────────────────────────────────────────────────────────────────────────────────────────────────────────────────────────────────────────────────────────────────────────────────────────────────────────────────────────────────────────────────────────────────────────────────────────────────────────────────────────────────────────────────────────────────────────────────────────────────────────────────────────────────────────────────────────────────────────────────────────────────────────────────────────────────────────────────────────────────────────────────────────────────────────────────────────────────────────────────────────────────────────────────────────────────────────────────────────────────────────────────────────────────────────────────────────────────────────────────────────────────────────────────────────────────────────────────────────────────────────────────────────────────────────────────────────────────────────────────────────────────────────────────────────────────────────────────────────────────────────────────────────────────────────────────────────────────────────────────────────────────────────────────────────────────────────────────────────────────────────────────────────────────────────────────────────────────────────────────────────────────────────────────────────────────────────────────────────────────────────────────────────────────────────────────────────────────────────────────────────────────────────────────────────────────────────────────────────────────────────────────────────────────────────────────────────────────────────────────────────────────────────────────────────────────────────────────────────────────────────────────────────────────────────────────────────────────────────────────────────────────────────────────────────────────────────────────────────────────────────────────────────────────────────────────────────────────────────────────────────────────────────────────────────────────────────────────────────────────────────────────────────────────────────────────────────────────────────────────────────────────────────────────────────────────────────────────────────────────────────────────────────────────────────────────────────────────────────────────────────────────────────────────────────────────────────────────────────────────────────────────────────────────────────────────────────────────────────────────────────────────────────────────────────────────────────────────────────────────────────────────────────────────────────────────────────────────────────────────────────────────────────────────────────────────────────────────────────────────────────────────────────────────────────────────────────────────────────────────────────────────────────────────────────────────────────────────────────────────────────────────────────────────────────────────────────────────────────────────────────────────────────────────────────────────────────────────────────────────────────────────────────────────────────────────────────────────────────────────────────────────────────────────────────────────────────────────────────────────────────────────────────────────────────────────────────────────────────────────────────────────────────────────────────────────────────────────────────────────────────────────────────────────────────────────────────────────────────────────────────────────────────────────────────────────────────────────────────────────────────────────────────────────────────────────────────────────────────────────────────────────────────────────────────────────────────────────────────────────────────────────────────────────────────────────────────────────────────────────────────────────────────────────────────────────────────────────────────────────────────────────────────────────────────────────────────────────────────────────────────────────────────────────────────────────────────────────────────────────────────────────────────────────────────────────────────────────────────────────────────────────────────────────────────────────────────────────────────────────────────────────────────────────────────────────────────────────────────────────────────────────────────────────────────────────────────────────────────────────────────────────────────────────────────────────────────────────────────────────────────────────────────────────────────────────────────────────────────────────────────────────────────────────────────────────────────────────────────────────────────────────────────────────────────────────────────────────────────────────────────────────────────────────────────────────────────────────────────────────────────────────────────────────────────────────────────────────────────────────────────────────────────────────────────────────────────────────────────────────────────────────────────────────────────────────────────────────────────────────────────────────────────────────────────────────────────────────────────────────────────────────────────────────────────────────────────────────────────────────────────────────────────────────────────────────────────────────────────────────────────────────────────────────────────────────────────────────────────────────────────────────────────────────────────────────────────────────────────────────────────────────────────────────────────────────────────────────────────────────────────────────────────────────────────────────────────────────────────────────────────────────────────────────────────────────────────────────────────────────────────────────────────────────────────────────────────────────────────────────────────────────────────────────────────────────────────────────────────────────────────────────────────────────────────────────────────────────────────────────────────────────────────────────────────────────────────────────────────────────────────────────────────────────────────────────────────────────────────────────────────────────────────────────────────────────────────────────────────────────────────────────────────────────────────────────────────────────────────────────────────────────────────────────────────────────────────────────────────────────────────────────────────────────────────────────────────────────────────────────────────────────────────────────────────────────────────────────────────────────────────────────────────────────────────────────────────────────────────────────────────────────────────────────────────────────────────────────────────────────────────────────────────────────────────────────────────────────────────────────────────────────────────────────────────────────────────────────────────────────────────────────────────────────────────────────────────────────────────────────────────────────────────────────────────────────────────────────────────────────────────────────────────────────────────────────────────────────────────────────────────────────────────────────────────────────────────────────────────────────────────────────────────────────────────────────────────────────────────────────────────────────────────────────────────────────────────────────────────────────────────────────────────────────────────────────────────────────────────────────────────────────────────────────────────────────────────────────────────────────────────────────────────────────────────────────────────────────────────────────────────────────────────────────────────────────────────────────────────────────────────────────────────────────────────────────────────────────────────────────────────────────────────────────────────────────────────────────────────────┬────────────────────────────────────────────┬─────────────────────────────────────────────────────────────────────────────────────────────────────────────┬─────────┬──────────────────────────┬────────────────────┬────────────────────┬────────────────────┬────────────────────┐\n",
       "│                                                                                                                                                                                                                                                                                                                                                                                                                                                                                                                                                                                                                                                                                                                                                                                                                                                                                                                                                                                                                                                                                                                                                                                                                                                                                                                                                                                                                                                                                                                                                                                                                                                                                                                                                                                                                                                                                                                                                                                                                                                                                                                                                                                                                                                                                                                                                                                                                                                                                                                                                                                                                                                                                                                                                                                                                                                                                                                                                                                                                                                                                                                                                                                                                                                                                                                                                                                                                                                                                                                                                                                                                                                                                                                                                                                                                                                                                                                                                                                                                                                                                                                                                                                                                                                                                                                                                                                                                                                                                                                                                                                                                                                                                                                                                                                                                                                                                                                                                                                                                                                            id                                                                                                                                                                                                                                                                                                                                                                                                                                                                                                                                                                                                                                                                                                                                                                                                                                                                                                                                                                                                                                                                                                                                                                                                                                                                                                                                                                                                                                                                                                                                                                                                                                                                                                                                                                                                                                                                                                                                                                                                                                                                                                                                                                                                                                                                                                                                                                                                                                                                                                                                                                                                                                                                                                                                                                                                                                                                                                                                                                                                                                                                                                                                                                                                                                                                                                                                                                                                                                                                                                                                                                                                                                                                                                                                                                                                                                                                                                                                                                                                                                                                                                                                                                                                                                                                                                                                                                                                                                                                                                                                                                                                                                                                                                                                                                                                                                                                                                                                                                                                                                                            │               enroll_season                │                                                     age                                                     │   sex   │           sii            │       min_q1       │       q1_q2        │       q2_q3        │       q3_max       │\n",
       "│ enum('00115b9f', '001f3379', '00f332d1', '01085eb3', '012cadd8', '012e3869', '029a19c9', '02cebf33', '02cf7384', '035c96dd', '03a9019b', '0417c91e', '045a0a94', '04afb6f9', '04bb1a76', '04cb2c30', '04d06a9c', '04f094a8', '051680a0', '055156e2', '059eed01', '05bbed1b', '05db1b9b', '05e94f88', '063b16fc', '064e8da5', '0668373f', '067b9287', '06c8b2fb', '06eb8adb', '070386b2', '07048067', '0720320e', '0745c390', '080698b7', '082df556', '08577722', '08660d12', '089a6b19', '09331bb8', '0983654b', '099e3614', '09b29113', '0a418b57', '0a431608', '0b4014f0', '0b50f3fa', '0b518637', '0b7d7aec', '0b7d9da6', '0bd89878', '0bfe4fc9', '0c4e2d68', '0c4eabac', '0c98f822', '0cbe4e54', '0d01bbf2', '0d279d77', '0d4800c8', '0d4fa8f4', '0d570d3e', '0d924604', '0e3b0bd2', '0ec403df', '0ed2a3c8', '0eddd8e5', '0f6b71c4', '0fbb3ca5', '101774f0', '101c27f1', '108b8659', '10ad8c48', '10e46254', '113f5798', '11739de2', '119d7562', '119e181e', '11be5d2e', '11f9b26c', '12380b06', '12a607f6', '1301f65d', '1314bc8c', '137baaec', '13eee030', '13fca10c', '14391970', '144a9a79', '14568d61', '1470a1df', '14a6e58e', '14b3d6e5', '15227eef', '154d1191', '15dbc929', '15f217a6', '15f2e240', '1606f203', '1649ce22', '17c1ae23', '1837456f', '18b8b2f6', '19098ef0', '1911731d', '19455336', '1957153d', '1a803bfe', '1aae1de3', '1aff6762', '1b2eea8f', '1b32427b', '1b329556', '1b5b34bc', '1b6fb363', '1c063ebc', '1c23295e', '1c5ba087', '1cd37b36', '1d78b3c3', '1e08b1dc', '1e5f6199', '1e87baed', '1eda934b', '1eea8df2', '1eedf45e', '1f2164a4', '1f5835cd', '1f65fa82', '1f7bd44c', '1fc07a80', '1fed3943', '214f46e8', '215ca39b', '218faf6f', '21a76448', '21eb6d47', '221e37e0', '22375702', '224fc39a', '22536a61', '22b4191a', '22c72c4e', '22e44415', '22f43a12', '233b9425', '23567787', '23dafdab', '23e024bd', '23e71e7c', '24398aed', '2496c491', '24a3b16d', '24ab10c6', '25849c6c', '25a3a723', '25eba023', '260f542b', '26190ddd', '26aeacdf', '26d541c2', '2760be91', '278e8a51', '27d7e5e4', '2812951b', '2840643b', '2898269f', '28e973b1', '29587a31', '29b37b4a', '29c54890', '2a0b8386', '2a3fcf9a', '2a6a6b92', '2a88cbe9', '2a922ca4', '2a9e0dee', '2ac0bd9f', '2afea280', '2b34dcf3', '2bac0893', '2bbcfd43', '2c2dc20d', '2c3b09db', '2c406043', '2c483245', '2c54d6c5', '2ca2206f', '2cb0db2c', '2cd9b5a3', '2cda86bd', '2d0bbbd3', '2da6bf6e', '2e17c497', '2e5f5207', '2ee0a1e8', '2f154763', '2f16cad4', '2f1af08a', '2f8ec752', '2fba6cf4', '2fef897e', '3065aa2f', '30d2fd47', '31648caa', '31b74cd4', '31d61741', '31f01671', '321202d4', '3216b978', '325afd3d', '3268c574', '327ef356', '32b8490d', '32dcc8ab', '331733c7', '338146bd', '33d60f7d', '33fe1b04', '34362a9a', '34ec5de4', '350cf38b', '350dbeba', '35198c2d', '351cd4ec', '35d2aa41', '35daea65', '35fa2ebf', '36530d36', '36c060b9', '36c1f189', '372a7950', '37995242', '37ae1239', '37bcfa7e', '380029ef', '3826be66', '384c3f27', '3875d4de', '38cccd6d', '38d53b92', '3950aa00', '397efe7a', '3983d3cd', '39fb1ad0', '3a594acf', '3ab539f0', '3acb5be3', '3b091b83', '3b1b9538', '3ba48ca7', '3c0aba64', '3c2cf08e', '3c620257', '3c8f474a', '3ca35642', '3d36fe8b', '3d3b87db', '3d3dd3ae', '3d48430d', '3d6143f3', '3d736110', '3d970ce4', '3e398bf9', '3e5d5b58', '3e5ee48c', '3f1cf5ba', '3f1f23e7', '3fcef947', '40087bc5', '408bed19', '40aae75f', '416b6ba2', '4177e5e5', '419d05c6', '427037b2', '4280076d', '428970d4', '428c37ea', '429cc266', '4307d287', '432aff11', '43629a34', '436dd613', '43720c15', '43a7386d', '43f44f6c', '43f5d3c5', '440acf4f', '4442c376', '4570c8b8', '464a75fb', '467c549f', '47240aa3', '47350ac6', '481a1861', '4859a9f9', '48db8ecf', '48df987b', '48e69212', '4926b18a', '4940a214', '4950e24c', '49a1931d', '49e4eade', '4a1440d9', '4a17b463', '4a475a9f', '4a4a0f78', '4a62661a', '4a6af685', '4a9f92ca', '4aa87859', '4b0f961e', '4b3c7594', '4b71830a', '4bc2bee9', '4ca242ea', '4cabd7aa', '4cde1e34', '4d19854c', '4d5a8ce7', '4d61a44e', '4dc4ed56', '4decbcd8', '4dfb4e1d', '4e6c7a75', '4e85505f', '4f059221', '4f20b188', '4fd7e043', '50707f1e', '50b2b84b', '5124169c', '5132511c', '51364c23', '51f38b37', '5264bb0e', '526f719b', '52ce9b8b', '52e9e467', '537dc410', '53814642', '53905a2c', '54391716', '54945f30', '54fef303', '554e46e9', '55f9338e', '563ebc00', '56cb7161', '56d9dead', '56ef356c', '5779f2e9', '579e50bd', '57c4f2b4', '57de6095', '57f6fa6c', '58391429', '58ada72e', '58dfccdb', '5985f299', '5a313293', '5af79adb', '5b2c9b83', '5b66b6f2', '5b9ff85e', '5c186496', '5c22f241', '5c2c136d', '5cd83147', '5d3b6ea5', '5d762840', '5d885b20', '5ddbac80', '5e359a08', '5e55e9fd', '5e57bd12', '5ea2c305', '5ed5f205', '5ee595e8', '5ef3d64e', '5f099188', '5f1b07e1', '5f37ceb1', '5f574f3d', '5f7537cf', '5f78f7b9', '5f9dddb4', '60c1ff37', '613fc399', '6187d0dc', '6197a2ce', '621066ff', '6247cc15', '6282e693', '62b873a2', '62cd5c74', '63d4ab9a', '63fc9770', '641697e6', '649ff6d9', '64b4005d', '64ed48c4', '658e66ec', '6595d479', '659fec57', '65fe69c0', '6699c999', '66f619e3', '677038b5', '6774ba64', '678598dd', '6795027a', '6826f0be', '685cc0f1', '687c85e7', '68be3d5c', '68fa4631', '697c41d7', '69b65679', '6a16089d', '6a2fd807', '6a4df6ff', '6a864b11', '6abd21d4', '6ac5763a', '6ac5eaaf', '6b6467f4', '6b773506', '6c0fe935', '6c2edc91', '6c6cd633', '6c737069', '6d5944a9', '6d707ac3', '6dfe4a75', '6e128c6b', '6e1d28b6', '6e85a624', '6e9beaee', '6ebfdc95', '6f49c8d0', '6f5677b7', '6fb28c2a', '6fcdcb2a', '7015528d', '709457f3', '70de1c63', '71850348', '71852781', '7187caec', '71c1b1d2', '71ee31f8', '721ea536', '7265f1e5', '72a0c969', '72c9c38d', '732b2327', '7347b54e', '73ec551e', '73ffa609', '745e6065', '7494989e', '75ad73ee', '75b0446f', '75b53bd4', '75c13e08', '764d8b42', '76781cd8', '76fb4afb', '7800a084', '7860b64c', '78704d22', '79bd36b6', '7a0136e0', '7a6d26a2', '7b0a4060', '7b543871', '7b8842c3', '7bdbf66f', '7c194077', '7c21ad67', '7c39c8e5', '7ce36c38', '7d8f1716', '7dc65b92', '7e46b693', '7e87087b', '7f26f78c', '7f2715b4', '7f44236f', '7fa51811', '7fa7ccc4', '806d877f', '8078b7de', '807d8908', '80b46ffb', '812f6873', '8148c785', '81a4b826', '81d3ab22', '81feecad', '82ec9747', '83379672', '836b4de3', '83711ef5', '8376acc5', '83846d0c', '83912085', '83eda373', '84875079', '84b7d89d', '855c6099', '857baaa6', '85d99199', '85d9c915', '860f4f9c', '86335468', '863e40c7', '86a8e0d6', '86bd716a', '87050a09', '87af775e', '8823b020', '8875387b', '893293dd', '89739b1a', '897da2c8', '898096eb', '89a26502', '8a44ea3a', '8a4e5d1a', '8a645723', '8a6b6912', '8a77c3e9', '8a9e653f', '8abbbc38', '8ba98f12', '8c0ca955', '8c1f9196', '8c6c52a2', '8cab7bc4', '8d8b8553', '8ddb6b8d', '8e59a69a', '8e749c85', '8e80deb7', '8ec2cc63', '8f015125', '8f21c613', '8f2d131f', '8f753551', '8f9c03c6', '90161e10', '9027c805', '9052579b', '9061cc9c', '9105b812', '9130a22e', '913bea9f', '91656d27', '92293b06', '92622443', '9271574b', '92bb8516', '930c567c', '93559639', '93904b23', '93c06d4c', '93c72a97', '93c93585', '93fd93c4', '93fda84a', '9402b885', '948a7025', '948e1435', '949f94e5', '94a1053b', '9540fa8e', '954a4c2e', '9570bfb7', '95cc96cc', '95d57ff9', '966161e7', '96de5f57', '97bb0cc0', '98413061', '98ed2153', '994ee014', '99b15811', '9a2082cf', '9a5aed6c', '9a7e4c38', '9aa1a2ae', '9ab4909f', '9b328d6c', '9b96b0e4', '9bdd6964', '9c1ea003', '9cba0d0e', '9ce139d3', '9cee3c19', '9cf04c41', '9d0670dd', '9d1b2d2c', '9d65adbf', '9d6b1410', '9dc74359', '9ddb06db', '9ddfb9e6', '9e027e04', '9e052412', '9e171735', '9e4385f7', '9e964060', '9eb283e4', '9ebb73c7', '9f3ca269', '9f70688f', '9f9be55c', '9fa5cdfd', '9fa68512', '9fb96ae3', '9ff73d95', 'a00c85e7', 'a0182b17', 'a0522c83', 'a08ebf6e', 'a148b46f', 'a1942b0b', 'a1ab89aa', 'a221c60c', 'a26c3e8f', 'a28c7891', 'a297d1b9', 'a2994e55', 'a302a015', 'a3391798', 'a3858c6a', 'a3b146ca', 'a3bd8858', 'a402c6c8', 'a40c8316', 'a4481101', 'a4530b41', 'a49eda7f', 'a4e0447e', 'a4f13c0d', 'a5078c62', 'a5099438', 'a5710c0a', 'a5974a7d', 'a5dbb00a', 'a614af1b', 'a65b2226', 'a6969e1a', 'a6fbb2e7', 'a774c63b', 'a7b9546a', 'a808ad0a', 'a814e825', 'a8926a86', 'a8b0428d', 'a8c1aab5', 'a8d9de72', 'a922ef3f', 'a95b4487', 'a9b84b96', 'a9c53cdb', 'aa1700c7', 'aae9800e', 'aaefeff0', 'ab16a20d', 'ab2ad965', 'ab36aa48', 'ab54c39e', 'ab987c75', 'abac67cc', 'abaf745c', 'ac1ad4a7', 'ac3ba541', 'ac66c144', 'ad0bbf35', 'ad380962', 'ad536dea', 'ad9f821d', 'adaf7461', 'adba23f0', 'adbd6839', 'adc2d620', 'ae712150', 'aecc7e74', 'af485add', 'af4f064e', 'b074f33b', 'b08423c5', 'b08f0ca4', 'b120a337', 'b1de4423', 'b1f064ac', 'b23b9220', 'b25abc27', 'b2987a65', 'b2b56219', 'b308c03e', 'b37281d5', 'b3b200af', 'b3f5c066', 'b41cee02', 'b447e66d', 'b452f767', 'b4e69f09', 'b69bf1f7', 'b712b69b', 'b7a61f8d', 'b7c410a9', 'b802aec3', 'b823508b', 'b94ec4a1', 'b95aad8d', 'b9b22bff', 'b9c085ab', 'b9cf3f7c', 'b9e90f7f', 'ba73bc7c', 'bb0d7d92', 'bb808a71', 'bba6ff20', 'bbd71a7c', 'bbe5bedd', 'bc4eaf77', 'bc66f41d', 'bc6bd8b2', 'bd4ccd4c', 'bd8397cb', 'bdbff28b', 'bdcc7d10', 'be210bc7', 'bea525dc', 'bebff291', 'bf31e0a7', 'bfb421f9', 'c00c663c', 'c0442863', 'c09d41cd', 'c0a7d046', 'c0f2a046', 'c1373df0', 'c274a243', 'c294b507', 'c2b40d6f', 'c2e15338', 'c3061b23', 'c308b134', 'c38585c5', 'c38a5c9b', 'c3a3f61e', 'c3a86e3e', 'c3adae87', 'c3d46daf', 'c3dde859', 'c446e1c5', 'c45068a1', 'c4c2076b', 'c5462e87', 'c55187b4', 'c5cfaeae', 'c6313b18', 'c6575d38', 'c6cc7467', 'c6d4b453', 'c6da0d4b', 'c6ead822', 'c731458f', 'c73dd2e4', 'c73f149c', 'c79039af', 'c7d9e964', 'c8270746', 'c829500d', 'c8cc2e1b', 'c8fbbc8a', 'c9600298', 'c96b9609', 'c9879365', 'c9902f48', 'c9dabad5', 'c9e419e7', 'ca3204b0', 'ca33a5e7', 'cadd4ae5', 'cb2752bc', 'cb3b7c3c', 'cb73fed9', 'cba39753', 'cbcf8cf2', 'cd144127', 'cd1fff5a', 'cd39e576', 'cd68643b', 'cd703872', 'cd89d5f1', 'cd8f3c61', 'cda90e9e', 'ce379a6a', 'ce6eeadf', 'cefdb7fe', 'cf1b9d44', 'cfcf9dc9', 'cfe4…  │ enum('fall', 'spring', 'summer', 'winter') │ enum('5', '6', '7', '8', '9', '10', '11', '12', '13', '14', '15', '16', '17', '18', '19', '20', '21', '22') │ varchar │ enum('0', '1', '2', '3') │       double       │       double       │       double       │       double       │\n",
       "├──────────────────────────────────────────────────────────────────────────────────────────────────────────────────────────────────────────────────────────────────────────────────────────────────────────────────────────────────────────────────────────────────────────────────────────────────────────────────────────────────────────────────────────────────────────────────────────────────────────────────────────────────────────────────────────────────────────────────────────────────────────────────────────────────────────────────────────────────────────────────────────────────────────────────────────────────────────────────────────────────────────────────────────────────────────────────────────────────────────────────────────────────────────────────────────────────────────────────────────────────────────────────────────────────────────────────────────────────────────────────────────────────────────────────────────────────────────────────────────────────────────────────────────────────────────────────────────────────────────────────────────────────────────────────────────────────────────────────────────────────────────────────────────────────────────────────────────────────────────────────────────────────────────────────────────────────────────────────────────────────────────────────────────────────────────────────────────────────────────────────────────────────────────────────────────────────────────────────────────────────────────────────────────────────────────────────────────────────────────────────────────────────────────────────────────────────────────────────────────────────────────────────────────────────────────────────────────────────────────────────────────────────────────────────────────────────────────────────────────────────────────────────────────────────────────────────────────────────────────────────────────────────────────────────────────────────────────────────────────────────────────────────────────────────────────────────────────────────────────────────────────────────────────────────────────────────────────────────────────────────────────────────────────────────────────────────────────────────────────────────────────────────────────────────────────────────────────────────────────────────────────────────────────────────────────────────────────────────────────────────────────────────────────────────────────────────────────────────────────────────────────────────────────────────────────────────────────────────────────────────────────────────────────────────────────────────────────────────────────────────────────────────────────────────────────────────────────────────────────────────────────────────────────────────────────────────────────────────────────────────────────────────────────────────────────────────────────────────────────────────────────────────────────────────────────────────────────────────────────────────────────────────────────────────────────────────────────────────────────────────────────────────────────────────────────────────────────────────────────────────────────────────────────────────────────────────────────────────────────────────────────────────────────────────────────────────────────────────────────────────────────────────────────────────────────────────────────────────────────────────────────────────────────────────────────────────────────────────────────────────────────────────────────────────────────────────────────────────────────────────────────────────────────────────────────────────────────────────────────────────────────────────────────────────────────────────────────────────────────────────────────────────────────────────────────────────────────────────────────────────────────────────────────────────────────────────────────────────────────────────────────────────────────────────────────────────────────────────────────────────────────────────────────────────────────────────────────────────────────────────────────────────────────────────────────────────────────────────────────────────────────────────────────────────────────────────────────────────────────────────────────────────────────────────────────────────────────────────────────────────────────────────────────────────────────────────────────────────────────────────────────────────────────────────────────────────────────────────────────────────────────────────────────────────────────────────────────────────────────────────────────────────────────────────────────────────────────────────────────────────────────────────────────────────────────────────────────────────────────────────────────────────────────────────────────────────────────────────────────────────────────────────────────────────────────────────────────────────────────────────────────────────────────────────────────────────────────────────────────────────────────────────────────────────────────────────────────────────────────────────────────────────────────────────────────────────────────────────────────────────────────────────────────────────────────────────────────────────────────────────────────────────────────────────────────────────────────────────────────────────────────────────────────────────────────────────────────────────────────────────────────────────────────────────────────────────────────────────────────────────────────────────────────────────────────────────────────────────────────────────────────────────────────────────────────────────────────────────────────────────────────────────────────────────────────────────────────────────────────────────────────────────────────────────────────────────────────────────────────────────────────────────────────────────────────────────────────────────────────────────────────────────────────────────────────────────────────────────────────────────────────────────────────────────────────────────────────────────────────────────────────────────────────────────────────────────────────────────────────────────────────────────────────────────────────────────────────────────────────────────────────────────────────────────────────────────────────────────────────────────────────────────────────────────────────────────────────────────────────────────────────────────────────────────────────────────────────────────────────────────────────────────────────────────────────────────────────────────────────────────────────────────────────────────────────────────────────────────────────────────────────────────────────────────────────────────────────────────────────────────────────────────────────────────────────────────────────────────────────────────────────────────────────────────────────────────────────────────────────────────────────────────────────────────────────────────────────────────────────────────────────────────────────────────────────────────────────────────────────────────────────────────────────────────────────────────────────────────────────────────────────────────────────────────────────────────────────────────────────────────────────────────────────────────────────────────────────────────────────────────────────────────────────────────────────────────────────────────────────────────────────────────────────────────────────────────────────────────────────────────────────────────────────────────────────────────────────────────────────────────────────────────────────────────────────────────────────────────────────────────────────────────────────────────────────────────────────────────────────────────────────────────────────────────────────────────────────────────────────────────────────────────────────────────────────────────────────────────────────────────────────────────────────────────────────────────────────────────────────────────────────────────────────────────────────────────────────────────────────────────────────────────────────────────────────────────────────────────────────────────────────────────────────────────────────────────────────────────────────────────────────────────────────────────────────────────────────────────────────────────────────────────────────────────────────────────────────────────────────────────────────────────────────────────────────────────────────────────────────────────────────────────────────────────────────────────────────────────────────────────────────────────────────────────────────────────────────────────────────────────────────────────────────────────────────────────────────────────────────────────────────────────────────────────────────────────────────────────────────────────────────────────────────────────────────────────────────────────────────────────────────────────────────────────────────────────────────────────────────────────────────────────────────────────────────────────────────────────────────────────────────────────────────────────────────────────────────────────────────────────────────────────────────────────────────────────────────────────────────────────────────────────────────────────────────────────────────────────────────────────────────────────────────────────────────────────────────────────────────────────────────────────────────────────────────────────────────────────────────────────────────────────────────────────────────────────────────────────────────────────────────────────────────────────────────────────────────────────────────────────────────────────────────────────────────────────────────────────────────────────────────────────────────────────────────────────────────────────────────────────────────────────────────────────────────────────────────────────────────────────────────────────────────────────────────────────────────────────────────────────────────────────────────────────────────────────────────────────────────────────────────────────────────────────────────┼────────────────────────────────────────────┼─────────────────────────────────────────────────────────────────────────────────────────────────────────────┼─────────┼──────────────────────────┼────────────────────┼────────────────────┼────────────────────┼────────────────────┤\n",
       "│ 00115b9f                                                                                                                                                                                                                                                                                                                                                                                                                                                                                                                                                                                                                                                                                                                                                                                                                                                                                                                                                                                                                                                                                                                                                                                                                                                                                                                                                                                                                                                                                                                                                                                                                                                                                                                                                                                                                                                                                                                                                                                                                                                                                                                                                                                                                                                                                                                                                                                                                                                                                                                                                                                                                                                                                                                                                                                                                                                                                                                                                                                                                                                                                                                                                                                                                                                                                                                                                                                                                                                                                                                                                                                                                                                                                                                                                                                                                                                                                                                                                                                                                                                                                                                                                                                                                                                                                                                                                                                                                                                                                                                                                                                                                                                                                                                                                                                                                                                                                                                                                                                                                                                                                                                                                                                                                                                                                                                                                                                                                                                                                                                                                                                                                                                                                                                                                                                                                                                                                                                                                                                                                                                                                                                                                                                                                                                                                                                                                                                                                                                                                                                                                                                                                                                                                                                                                                                                                                                                                                                                                                                                                                                                                                                                                                                                                                                                                                                                                                                                                                                                                                                                                                                                                                                                                                                                                                                                                                                                                                                                                                                                                                                                                                                                                                                                                                                                                                                                                                                                                                                                                                                                                                                                                                                                                                                                                                                                                                                                                                                                                                                                                                                                                                                                                                                                                                                                                                                                                                                                                                                                                                                                                                                                                                                                                                                                                                                                                                                                                                                                                                                                                                                                                                                 │ Winter                                     │ 9                                                                                                           │ 0       │ 1                        │ 23.056298664113978 │  61.61721594422009 │    52.765336106987 │ 17.024433426367494 │\n",
       "│ 001f3379                                                                                                                                                                                                                                                                                                                                                                                                                                                                                                                                                                                                                                                                                                                                                                                                                                                                                                                                                                                                                                                                                                                                                                                                                                                                                                                                                                                                                                                                                                                                                                                                                                                                                                                                                                                                                                                                                                                                                                                                                                                                                                                                                                                                                                                                                                                                                                                                                                                                                                                                                                                                                                                                                                                                                                                                                                                                                                                                                                                                                                                                                                                                                                                                                                                                                                                                                                                                                                                                                                                                                                                                                                                                                                                                                                                                                                                                                                                                                                                                                                                                                                                                                                                                                                                                                                                                                                                                                                                                                                                                                                                                                                                                                                                                                                                                                                                                                                                                                                                                                                                                                                                                                                                                                                                                                                                                                                                                                                                                                                                                                                                                                                                                                                                                                                                                                                                                                                                                                                                                                                                                                                                                                                                                                                                                                                                                                                                                                                                                                                                                                                                                                                                                                                                                                                                                                                                                                                                                                                                                                                                                                                                                                                                                                                                                                                                                                                                                                                                                                                                                                                                                                                                                                                                                                                                                                                                                                                                                                                                                                                                                                                                                                                                                                                                                                                                                                                                                                                                                                                                                                                                                                                                                                                                                                                                                                                                                                                                                                                                                                                                                                                                                                                                                                                                                                                                                                                                                                                                                                                                                                                                                                                                                                                                                                                                                                                                                                                                                                                                                                                                                                                                 │ Spring                                     │ 13                                                                                                          │ 1       │ 1                        │ 2.0921847730315926 │  38.91030964433742 │ 27.358439162557406 │ 3.4304620327658273 │\n",
       "│ 00f332d1                                                                                                                                                                                                                                                                                                                                                                                                                                                                                                                                                                                                                                                                                                                                                                                                                                                                                                                                                                                                                                                                                                                                                                                                                                                                                                                                                                                                                                                                                                                                                                                                                                                                                                                                                                                                                                                                                                                                                                                                                                                                                                                                                                                                                                                                                                                                                                                                                                                                                                                                                                                                                                                                                                                                                                                                                                                                                                                                                                                                                                                                                                                                                                                                                                                                                                                                                                                                                                                                                                                                                                                                                                                                                                                                                                                                                                                                                                                                                                                                                                                                                                                                                                                                                                                                                                                                                                                                                                                                                                                                                                                                                                                                                                                                                                                                                                                                                                                                                                                                                                                                                                                                                                                                                                                                                                                                                                                                                                                                                                                                                                                                                                                                                                                                                                                                                                                                                                                                                                                                                                                                                                                                                                                                                                                                                                                                                                                                                                                                                                                                                                                                                                                                                                                                                                                                                                                                                                                                                                                                                                                                                                                                                                                                                                                                                                                                                                                                                                                                                                                                                                                                                                                                                                                                                                                                                                                                                                                                                                                                                                                                                                                                                                                                                                                                                                                                                                                                                                                                                                                                                                                                                                                                                                                                                                                                                                                                                                                                                                                                                                                                                                                                                                                                                                                                                                                                                                                                                                                                                                                                                                                                                                                                                                                                                                                                                                                                                                                                                                                                                                                                                                                 │ Winter                                     │ 14                                                                                                          │ 0       │ 1                        │  21.00137231321464 │  70.80935112891032 │  172.0021666044613 │ 20.082392274602576 │\n",
       "│ 012cadd8                                                                                                                                                                                                                                                                                                                                                                                                                                                                                                                                                                                                                                                                                                                                                                                                                                                                                                                                                                                                                                                                                                                                                                                                                                                                                                                                                                                                                                                                                                                                                                                                                                                                                                                                                                                                                                                                                                                                                                                                                                                                                                                                                                                                                                                                                                                                                                                                                                                                                                                                                                                                                                                                                                                                                                                                                                                                                                                                                                                                                                                                                                                                                                                                                                                                                                                                                                                                                                                                                                                                                                                                                                                                                                                                                                                                                                                                                                                                                                                                                                                                                                                                                                                                                                                                                                                                                                                                                                                                                                                                                                                                                                                                                                                                                                                                                                                                                                                                                                                                                                                                                                                                                                                                                                                                                                                                                                                                                                                                                                                                                                                                                                                                                                                                                                                                                                                                                                                                                                                                                                                                                                                                                                                                                                                                                                                                                                                                                                                                                                                                                                                                                                                                                                                                                                                                                                                                                                                                                                                                                                                                                                                                                                                                                                                                                                                                                                                                                                                                                                                                                                                                                                                                                                                                                                                                                                                                                                                                                                                                                                                                                                                                                                                                                                                                                                                                                                                                                                                                                                                                                                                                                                                                                                                                                                                                                                                                                                                                                                                                                                                                                                                                                                                                                                                                                                                                                                                                                                                                                                                                                                                                                                                                                                                                                                                                                                                                                                                                                                                                                                                                                                                 │ Spring                                     │ 9                                                                                                           │ 0       │ 0                        │ 10.611097451963815 │ 107.57394767532905 │ 113.73933614867022 │  6.766493074910398 │\n",
       "│ 012e3869                                                                                                                                                                                                                                                                                                                                                                                                                                                                                                                                                                                                                                                                                                                                                                                                                                                                                                                                                                                                                                                                                                                                                                                                                                                                                                                                                                                                                                                                                                                                                                                                                                                                                                                                                                                                                                                                                                                                                                                                                                                                                                                                                                                                                                                                                                                                                                                                                                                                                                                                                                                                                                                                                                                                                                                                                                                                                                                                                                                                                                                                                                                                                                                                                                                                                                                                                                                                                                                                                                                                                                                                                                                                                                                                                                                                                                                                                                                                                                                                                                                                                                                                                                                                                                                                                                                                                                                                                                                                                                                                                                                                                                                                                                                                                                                                                                                                                                                                                                                                                                                                                                                                                                                                                                                                                                                                                                                                                                                                                                                                                                                                                                                                                                                                                                                                                                                                                                                                                                                                                                                                                                                                                                                                                                                                                                                                                                                                                                                                                                                                                                                                                                                                                                                                                                                                                                                                                                                                                                                                                                                                                                                                                                                                                                                                                                                                                                                                                                                                                                                                                                                                                                                                                                                                                                                                                                                                                                                                                                                                                                                                                                                                                                                                                                                                                                                                                                                                                                                                                                                                                                                                                                                                                                                                                                                                                                                                                                                                                                                                                                                                                                                                                                                                                                                                                                                                                                                                                                                                                                                                                                                                                                                                                                                                                                                                                                                                                                                                                                                                                                                                                                                 │ Summer                                     │ 6                                                                                                           │ 0       │ 0                        │ 13.295250364505536 │ 21.511838027329564 │ 14.483557567675383 │ 11.506402483025365 │\n",
       "│ 029a19c9                                                                                                                                                                                                                                                                                                                                                                                                                                                                                                                                                                                                                                                                                                                                                                                                                                                                                                                                                                                                                                                                                                                                                                                                                                                                                                                                                                                                                                                                                                                                                                                                                                                                                                                                                                                                                                                                                                                                                                                                                                                                                                                                                                                                                                                                                                                                                                                                                                                                                                                                                                                                                                                                                                                                                                                                                                                                                                                                                                                                                                                                                                                                                                                                                                                                                                                                                                                                                                                                                                                                                                                                                                                                                                                                                                                                                                                                                                                                                                                                                                                                                                                                                                                                                                                                                                                                                                                                                                                                                                                                                                                                                                                                                                                                                                                                                                                                                                                                                                                                                                                                                                                                                                                                                                                                                                                                                                                                                                                                                                                                                                                                                                                                                                                                                                                                                                                                                                                                                                                                                                                                                                                                                                                                                                                                                                                                                                                                                                                                                                                                                                                                                                                                                                                                                                                                                                                                                                                                                                                                                                                                                                                                                                                                                                                                                                                                                                                                                                                                                                                                                                                                                                                                                                                                                                                                                                                                                                                                                                                                                                                                                                                                                                                                                                                                                                                                                                                                                                                                                                                                                                                                                                                                                                                                                                                                                                                                                                                                                                                                                                                                                                                                                                                                                                                                                                                                                                                                                                                                                                                                                                                                                                                                                                                                                                                                                                                                                                                                                                                                                                                                                                                 │ Winter                                     │ 17                                                                                                          │ 1       │ 1                        │ 11.335803269336436 │ 58.970067060004766 │  35.56758577134633 │  7.528178006865095 │\n",
       "│ 02cebf33                                                                                                                                                                                                                                                                                                                                                                                                                                                                                                                                                                                                                                                                                                                                                                                                                                                                                                                                                                                                                                                                                                                                                                                                                                                                                                                                                                                                                                                                                                                                                                                                                                                                                                                                                                                                                                                                                                                                                                                                                                                                                                                                                                                                                                                                                                                                                                                                                                                                                                                                                                                                                                                                                                                                                                                                                                                                                                                                                                                                                                                                                                                                                                                                                                                                                                                                                                                                                                                                                                                                                                                                                                                                                                                                                                                                                                                                                                                                                                                                                                                                                                                                                                                                                                                                                                                                                                                                                                                                                                                                                                                                                                                                                                                                                                                                                                                                                                                                                                                                                                                                                                                                                                                                                                                                                                                                                                                                                                                                                                                                                                                                                                                                                                                                                                                                                                                                                                                                                                                                                                                                                                                                                                                                                                                                                                                                                                                                                                                                                                                                                                                                                                                                                                                                                                                                                                                                                                                                                                                                                                                                                                                                                                                                                                                                                                                                                                                                                                                                                                                                                                                                                                                                                                                                                                                                                                                                                                                                                                                                                                                                                                                                                                                                                                                                                                                                                                                                                                                                                                                                                                                                                                                                                                                                                                                                                                                                                                                                                                                                                                                                                                                                                                                                                                                                                                                                                                                                                                                                                                                                                                                                                                                                                                                                                                                                                                                                                                                                                                                                                                                                                                                 │ Spring                                     │ 12                                                                                                          │ 1       │ 1                        │  35.51435867007798 │  21.77304040400846 │  44.77821586746431 │ 52.657730413477495 │\n",
       "│ 02cf7384                                                                                                                                                                                                                                                                                                                                                                                                                                                                                                                                                                                                                                                                                                                                                                                                                                                                                                                                                                                                                                                                                                                                                                                                                                                                                                                                                                                                                                                                                                                                                                                                                                                                                                                                                                                                                                                                                                                                                                                                                                                                                                                                                                                                                                                                                                                                                                                                                                                                                                                                                                                                                                                                                                                                                                                                                                                                                                                                                                                                                                                                                                                                                                                                                                                                                                                                                                                                                                                                                                                                                                                                                                                                                                                                                                                                                                                                                                                                                                                                                                                                                                                                                                                                                                                                                                                                                                                                                                                                                                                                                                                                                                                                                                                                                                                                                                                                                                                                                                                                                                                                                                                                                                                                                                                                                                                                                                                                                                                                                                                                                                                                                                                                                                                                                                                                                                                                                                                                                                                                                                                                                                                                                                                                                                                                                                                                                                                                                                                                                                                                                                                                                                                                                                                                                                                                                                                                                                                                                                                                                                                                                                                                                                                                                                                                                                                                                                                                                                                                                                                                                                                                                                                                                                                                                                                                                                                                                                                                                                                                                                                                                                                                                                                                                                                                                                                                                                                                                                                                                                                                                                                                                                                                                                                                                                                                                                                                                                                                                                                                                                                                                                                                                                                                                                                                                                                                                                                                                                                                                                                                                                                                                                                                                                                                                                                                                                                                                                                                                                                                                                                                                                                 │ Summer                                     │ 16                                                                                                          │ 1       │ 0                        │  7.041226660503334 │  21.51268217599134 │    24.071807835717 │ 7.1151931637569295 │\n",
       "│ 035c96dd                                                                                                                                                                                                                                                                                                                                                                                                                                                                                                                                                                                                                                                                                                                                                                                                                                                                                                                                                                                                                                                                                                                                                                                                                                                                                                                                                                                                                                                                                                                                                                                                                                                                                                                                                                                                                                                                                                                                                                                                                                                                                                                                                                                                                                                                                                                                                                                                                                                                                                                                                                                                                                                                                                                                                                                                                                                                                                                                                                                                                                                                                                                                                                                                                                                                                                                                                                                                                                                                                                                                                                                                                                                                                                                                                                                                                                                                                                                                                                                                                                                                                                                                                                                                                                                                                                                                                                                                                                                                                                                                                                                                                                                                                                                                                                                                                                                                                                                                                                                                                                                                                                                                                                                                                                                                                                                                                                                                                                                                                                                                                                                                                                                                                                                                                                                                                                                                                                                                                                                                                                                                                                                                                                                                                                                                                                                                                                                                                                                                                                                                                                                                                                                                                                                                                                                                                                                                                                                                                                                                                                                                                                                                                                                                                                                                                                                                                                                                                                                                                                                                                                                                                                                                                                                                                                                                                                                                                                                                                                                                                                                                                                                                                                                                                                                                                                                                                                                                                                                                                                                                                                                                                                                                                                                                                                                                                                                                                                                                                                                                                                                                                                                                                                                                                                                                                                                                                                                                                                                                                                                                                                                                                                                                                                                                                                                                                                                                                                                                                                                                                                                                                                                 │ Summer                                     │ 13                                                                                                          │ 1       │ 0                        │ 15.084753050217662 │ 16.633524548528626 │  19.23437899018085 │ 14.557637507023735 │\n",
       "│ 0417c91e                                                                                                                                                                                                                                                                                                                                                                                                                                                                                                                                                                                                                                                                                                                                                                                                                                                                                                                                                                                                                                                                                                                                                                                                                                                                                                                                                                                                                                                                                                                                                                                                                                                                                                                                                                                                                                                                                                                                                                                                                                                                                                                                                                                                                                                                                                                                                                                                                                                                                                                                                                                                                                                                                                                                                                                                                                                                                                                                                                                                                                                                                                                                                                                                                                                                                                                                                                                                                                                                                                                                                                                                                                                                                                                                                                                                                                                                                                                                                                                                                                                                                                                                                                                                                                                                                                                                                                                                                                                                                                                                                                                                                                                                                                                                                                                                                                                                                                                                                                                                                                                                                                                                                                                                                                                                                                                                                                                                                                                                                                                                                                                                                                                                                                                                                                                                                                                                                                                                                                                                                                                                                                                                                                                                                                                                                                                                                                                                                                                                                                                                                                                                                                                                                                                                                                                                                                                                                                                                                                                                                                                                                                                                                                                                                                                                                                                                                                                                                                                                                                                                                                                                                                                                                                                                                                                                                                                                                                                                                                                                                                                                                                                                                                                                                                                                                                                                                                                                                                                                                                                                                                                                                                                                                                                                                                                                                                                                                                                                                                                                                                                                                                                                                                                                                                                                                                                                                                                                                                                                                                                                                                                                                                                                                                                                                                                                                                                                                                                                                                                                                                                                                                                 │ Spring                                     │ 6                                                                                                           │ 1       │ 0                        │ 13.874130920801942 │ 132.46071280156065 │  197.5575584527372 │ 17.118259898777023 │\n",
       "├──────────────────────────────────────────────────────────────────────────────────────────────────────────────────────────────────────────────────────────────────────────────────────────────────────────────────────────────────────────────────────────────────────────────────────────────────────────────────────────────────────────────────────────────────────────────────────────────────────────────────────────────────────────────────────────────────────────────────────────────────────────────────────────────────────────────────────────────────────────────────────────────────────────────────────────────────────────────────────────────────────────────────────────────────────────────────────────────────────────────────────────────────────────────────────────────────────────────────────────────────────────────────────────────────────────────────────────────────────────────────────────────────────────────────────────────────────────────────────────────────────────────────────────────────────────────────────────────────────────────────────────────────────────────────────────────────────────────────────────────────────────────────────────────────────────────────────────────────────────────────────────────────────────────────────────────────────────────────────────────────────────────────────────────────────────────────────────────────────────────────────────────────────────────────────────────────────────────────────────────────────────────────────────────────────────────────────────────────────────────────────────────────────────────────────────────────────────────────────────────────────────────────────────────────────────────────────────────────────────────────────────────────────────────────────────────────────────────────────────────────────────────────────────────────────────────────────────────────────────────────────────────────────────────────────────────────────────────────────────────────────────────────────────────────────────────────────────────────────────────────────────────────────────────────────────────────────────────────────────────────────────────────────────────────────────────────────────────────────────────────────────────────────────────────────────────────────────────────────────────────────────────────────────────────────────────────────────────────────────────────────────────────────────────────────────────────────────────────────────────────────────────────────────────────────────────────────────────────────────────────────────────────────────────────────────────────────────────────────────────────────────────────────────────────────────────────────────────────────────────────────────────────────────────────────────────────────────────────────────────────────────────────────────────────────────────────────────────────────────────────────────────────────────────────────────────────────────────────────────────────────────────────────────────────────────────────────────────────────────────────────────────────────────────────────────────────────────────────────────────────────────────────────────────────────────────────────────────────────────────────────────────────────────────────────────────────────────────────────────────────────────────────────────────────────────────────────────────────────────────────────────────────────────────────────────────────────────────────────────────────────────────────────────────────────────────────────────────────────────────────────────────────────────────────────────────────────────────────────────────────────────────────────────────────────────────────────────────────────────────────────────────────────────────────────────────────────────────────────────────────────────────────────────────────────────────────────────────────────────────────────────────────────────────────────────────────────────────────────────────────────────────────────────────────────────────────────────────────────────────────────────────────────────────────────────────────────────────────────────────────────────────────────────────────────────────────────────────────────────────────────────────────────────────────────────────────────────────────────────────────────────────────────────────────────────────────────────────────────────────────────────────────────────────────────────────────────────────────────────────────────────────────────────────────────────────────────────────────────────────────────────────────────────────────────────────────────────────────────────────────────────────────────────────────────────────────────────────────────────────────────────────────────────────────────────────────────────────────────────────────────────────────────────────────────────────────────────────────────────────────────────────────────────────────────────────────────────────────────────────────────────────────────────────────────────────────────────────────────────────────────────────────────────────────────────────────────────────────────────────────────────────────────────────────────────────────────────────────────────────────────────────────────────────────────────────────────────────────────────────────────────────────────────────────────────────────────────────────────────────────────────────────────────────────────────────────────────────────────────────────────────────────────────────────────────────────────────────────────────────────────────────────────────────────────────────────────────────────────────────────────────────────────────────────────────────────────────────────────────────────────────────────────────────────────────────────────────────────────────────────────────────────────────────────────────────────────────────────────────────────────────────────────────────────────────────────────────────────────────────────────────────────────────────────────────────────────────────────────────────────────────────────────────────────────────────────────────────────────────────────────────────────────────────────────────────────────────────────────────────────────────────────────────────────────────────────────────────────────────────────────────────────────────────────────────────────────────────────────────────────────────────────────────────────────────────────────────────────────────────────────────────────────────────────────────────────────────────────────────────────────────────────────────────────────────────────────────────────────────────────────────────────────────────────────────────────────────────────────────────────────────────────────────────────────────────────────────────────────────────────────────────────────────────────────────────────────────────────────────────────────────────────────────────────────────────────────────────────────────────────────────────────────────────────────────────────────────────────────────────────────────────────────────────────────────────────────────────────────────────────────────────────────────────────────────────────────────────────────────────────────────────────────────────────────────────────────────────────────────────────────────────────────────────────────────────────────────────────────────────────────────────────────────────────────────────────────────────────────────────────────────────────────────────────────────────────────────────────────────────────────────────────────────────────────────────────────────────────────────────────────────────────────────────────────────────────────────────────────────────────────────────────────────────────────────────────────────────────────────────────────────────────────────────────────────────────────────────────────────────────────────────────────────────────────────────────────────────────────────────────────────────────────────────────────────────────────────────────────────────────────────────────────────────────────────────────────────────────────────────────────────────────────────────────────────────────────────────────────────────────────────────────────────────────────────────────────────────────────────────────────────────────────────────────────────────────────────────────────────────────────────────────────────────────────────────────────────────────────────────────────────────────────────────────────────────────────────────────────────────────────────────────────────────────────────────────────────────────────────────────────────────────────────────────────────────────────────────────────────────────────────────────────────────────────────────────────────────────────────────────────────────────────────────────────────────────────────────────────────────────────────────────────────────────────────────────────────────────────────────────────────────────────────────────────────────────────────────────────────────────────────────────────────────────────────────────────────────────────────────────────────────────────────────────────────────────────────────────────────────────────────────────────────────────────────────────────────────────────────────────────────────────────────────────────────────────────────────────────────────────────────────────────────────────────────────────────────────────────────────────────────────────────────────────────────────────────────────────────────────────────────────────────────────────────────────────────────────────────────────────────────────────────────────────────────────────────────────────────────────────────────────────────────────────────────────────────────────────────────────────────────────────────────────────────────────────────────────────────────────────────────────────────────────────────────────────────────────────────────────────────────────────────────────────────────────────────────────────────────────────────────────────────────────────────────┴────────────────────────────────────────────┴─────────────────────────────────────────────────────────────────────────────────────────────────────────────┴─────────┴──────────────────────────┴────────────────────┴────────────────────┴────────────────────┴────────────────────┤\n",
       "│ 10 rows                                                                                                                                                                                                                                                                                                                                                                                                                                                                                                                                                                                                                                                                                                                                                                                                                                                                                                                                                                                                                                                                                                                                                                                                                                                                                                                                                                                                                                                                                                                                                                                                                                                                                                                                                                                                                                                                                                                                                                                                                                                                                                                                                                                                                                                                                                                                                                                                                                                                                                                                                                                                                                                                                                                                                                                                                                                                                                                                                                                                                                                                                                                                                                                                                                                                                                                                                                                                                                                                                                                                                                                                                                                                                                                                                                                                                                                                                                                                                                                                                                                                                                                                                                                                                                                                                                                                                                                                                                                                                                                                                                                                                                                                                                                                                                                                                                                                                                                                                                                                                                                                                                                                                                                                                                                                                                                                                                                                                                                                                                                                                                                                                                                                                                                                                                                                                                                                                                                                                                                                                                                                                                                                                                                                                                                                                                                                                                                                                                                                                                                                                                                                                                                                                                                                                                                                                                                                                                                                                                                                                                                                                                                                                                                                                                                                                                                                                                                                                                                                                                                                                                                                                                                                                                                                                                                                                                                                                                                                                                                                                                                                                                                                                                                                                                                                                                                                                                                                                                                                                                                                                                                                                                                                                                                                                                                                                                                                                                                                                                                                                                                                                                                                                                                                                                                                                                                                                                                                                                                                                                                                                                                                                                                                                                                                                                                                                                                                                                                                                                                                                                                                                                                                                                                                                                                                                                                                                                                            9 columns │\n",
       "└──────────────────────────────────────────────────────────────────────────────────────────────────────────────────────────────────────────────────────────────────────────────────────────────────────────────────────────────────────────────────────────────────────────────────────────────────────────────────────────────────────────────────────────────────────────────────────────────────────────────────────────────────────────────────────────────────────────────────────────────────────────────────────────────────────────────────────────────────────────────────────────────────────────────────────────────────────────────────────────────────────────────────────────────────────────────────────────────────────────────────────────────────────────────────────────────────────────────────────────────────────────────────────────────────────────────────────────────────────────────────────────────────────────────────────────────────────────────────────────────────────────────────────────────────────────────────────────────────────────────────────────────────────────────────────────────────────────────────────────────────────────────────────────────────────────────────────────────────────────────────────────────────────────────────────────────────────────────────────────────────────────────────────────────────────────────────────────────────────────────────────────────────────────────────────────────────────────────────────────────────────────────────────────────────────────────────────────────────────────────────────────────────────────────────────────────────────────────────────────────────────────────────────────────────────────────────────────────────────────────────────────────────────────────────────────────────────────────────────────────────────────────────────────────────────────────────────────────────────────────────────────────────────────────────────────────────────────────────────────────────────────────────────────────────────────────────────────────────────────────────────────────────────────────────────────────────────────────────────────────────────────────────────────────────────────────────────────────────────────────────────────────────────────────────────────────────────────────────────────────────────────────────────────────────────────────────────────────────────────────────────────────────────────────────────────────────────────────────────────────────────────────────────────────────────────────────────────────────────────────────────────────────────────────────────────────────────────────────────────────────────────────────────────────────────────────────────────────────────────────────────────────────────────────────────────────────────────────────────────────────────────────────────────────────────────────────────────────────────────────────────────────────────────────────────────────────────────────────────────────────────────────────────────────────────────────────────────────────────────────────────────────────────────────────────────────────────────────────────────────────────────────────────────────────────────────────────────────────────────────────────────────────────────────────────────────────────────────────────────────────────────────────────────────────────────────────────────────────────────────────────────────────────────────────────────────────────────────────────────────────────────────────────────────────────────────────────────────────────────────────────────────────────────────────────────────────────────────────────────────────────────────────────────────────────────────────────────────────────────────────────────────────────────────────────────────────────────────────────────────────────────────────────────────────────────────────────────────────────────────────────────────────────────────────────────────────────────────────────────────────────────────────────────────────────────────────────────────────────────────────────────────────────────────────────────────────────────────────────────────────────────────────────────────────────────────────────────────────────────────────────────────────────────────────────────────────────────────────────────────────────────────────────────────────────────────────────────────────────────────────────────────────────────────────────────────────────────────────────────────────────────────────────────────────────────────────────────────────────────────────────────────────────────────────────────────────────────────────────────────────────────────────────────────────────────────────────────────────────────────────────────────────────────────────────────────────────────────────────────────────────────────────────────────────────────────────────────────────────────────────────────────────────────────────────────────────────────────────────────────────────────────────────────────────────────────────────────────────────────────────────────────────────────────────────────────────────────────────────────────────────────────────────────────────────────────────────────────────────────────────────────────────────────────────────────────────────────────────────────────────────────────────────────────────────────────────────────────────────────────────────────────────────────────────────────────────────────────────────────────────────────────────────────────────────────────────────────────────────────────────────────────────────────────────────────────────────────────────────────────────────────────────────────────────────────────────────────────────────────────────────────────────────────────────────────────────────────────────────────────────────────────────────────────────────────────────────────────────────────────────────────────────────────────────────────────────────────────────────────────────────────────────────────────────────────────────────────────────────────────────────────────────────────────────────────────────────────────────────────────────────────────────────────────────────────────────────────────────────────────────────────────────────────────────────────────────────────────────────────────────────────────────────────────────────────────────────────────────────────────────────────────────────────────────────────────────────────────────────────────────────────────────────────────────────────────────────────────────────────────────────────────────────────────────────────────────────────────────────────────────────────────────────────────────────────────────────────────────────────────────────────────────────────────────────────────────────────────────────────────────────────────────────────────────────────────────────────────────────────────────────────────────────────────────────────────────────────────────────────────────────────────────────────────────────────────────────────────────────────────────────────────────────────────────────────────────────────────────────────────────────────────────────────────────────────────────────────────────────────────────────────────────────────────────────────────────────────────────────────────────────────────────────────────────────────────────────────────────────────────────────────────────────────────────────────────────────────────────────────────────────────────────────────────────────────────────────────────────────────────────────────────────────────────────────────────────────────────────────────────────────────────────────────────────────────────────────────────────────────────────────────────────────────────────────────────────────────────────────────────────────────────────────────────────────────────────────────────────────────────────────────────────────────────────────────────────────────────────────────────────────────────────────────────────────────────────────────────────────────────────────────────────────────────────────────────────────────────────────────────────────────────────────────────────────────────────────────────────────────────────────────────────────────────────────────────────────────────────────────────────────────────────────────────────────────────────────────────────────────────────────────────────────────────────────────────────────────────────────────────────────────────────────────────────────────────────────────────────────────────────────────────────────────────────────────────────────────────────────────────────────────────────────────────────────────────────────────────────────────────────────────────────────────────────────────────────────────────────────────────────────────────────────────────────────────────────────────────────────────────────────────────────────────────────────────────────────────────────────────────────────────────────────────────────────────────────────────────────────────────────────────────────────────────────────────────────────────────────────────────────────────────────────────────────────────────────────────────────────────────────────────────────────────────────────────────────────────────────────────────────────────────────────────────────────────────────────────────────────────────────────────────────────────────────────────────────────────────────────────────────────────────────────────────────────────────────────────────────────────────────────────────────────────────────────────────────────────────────────────────────────────────────────────────────────────────────────────────────────────────────────────────────────────────────────────────────────────────────────────────────────────────────────────────────────────────────────────────────────────────────────────────────────────────────────────────────────────────────────────────────────────────────────────────────────────────────────────────────────────────────────────────────────────────────────────────────────────────────────────────────────────────────────────────────────────────────────────────────────────────────────────────────────────────────────────────────────────────────────────────────────────────────────────────────────────────────────────────────────────────┘"
      ]
     }
    }
   ],
   "source": [
    "conn.sql(f\"\"\"\n",
    "CREATE OR REPLACE TABLE AggregatedAnalysis AS\n",
    "SELECT \n",
    "  l1.*\n",
    "  ,l2.q1_q2\n",
    "  ,l3.q2_q3\n",
    "  ,l4.q3_max\n",
    "FROM \n",
    "  Light1 l1\n",
    "LEFT JOIN\n",
    "  Light2 l2\n",
    "ON \n",
    "  l1.id = l2.id\n",
    "LEFT JOIN\n",
    "  Light3 l3\n",
    "ON \n",
    "  l1.id = l3.id\n",
    "LEFT JOIN\n",
    "  Light4 l4\n",
    "ON \n",
    "  l1.id = l4.id;\n",
    "\"\"\")\n",
    "\n",
    "conn.sql(f\"SELECT * FROM AggregatedAnalysis LIMIT 10;\")"
   ],
   "id": "1f01c316"
  },
  {
   "cell_type": "markdown",
   "metadata": {},
   "source": [
    "#### Internet Use Hours\n",
    "\n",
    "Join the sii data from the InternetUse table to the table of aggregated information."
   ],
   "id": "910d02bc"
  },
  {
   "cell_type": "code",
   "execution_count": 22,
   "metadata": {},
   "outputs": [],
   "source": [
    "conn.sql(f\"\"\"\n",
    "CREATE OR REPLACE TABLE AggregatedAnalysis AS\n",
    "SELECT\n",
    "  aa.*\n",
    "  ,preint_eduhx_computerinternet_hoursday AS useHrs \n",
    "FROM\n",
    "  AggregatedAnalysis aa\n",
    "LEFT JOIN \n",
    "  InternetUse iu\n",
    "ON\n",
    "  aa.id = iu.id;\n",
    "\"\"\")"
   ],
   "id": "8b892fdf"
  },
  {
   "cell_type": "code",
   "execution_count": 23,
   "metadata": {
    "layout-align": "center",
    "show": false
   },
   "outputs": [],
   "source": [
    "import polars as pl\n",
    "\n",
    "conn.sql(f\"SELECT * FROM AggregatedAnalysis LIMIT 10;\").pl()"
   ],
   "id": "9cafddf1"
  },
  {
   "cell_type": "markdown",
   "metadata": {},
   "source": [
    "In the spirit of modular code, complex SQL operations were simplified with Python using a dictionary of unique CASE-WHEN and WHERE query lines."
   ],
   "id": "cda55c5b"
  },
  {
   "cell_type": "code",
   "execution_count": 24,
   "metadata": {},
   "outputs": [],
   "source": [
    "riskyDictionary = {\n",
    "  'Risk1': \n",
    "    (f\",CASE WHEN ph.physical_bmi < 18.5 THEN 'Underweight'\"\n",
    "    ,f\"WHEN ph.physical_bmi BETWEEN 18.5 AND 24.9 THEN 'Normal'\"\n",
    "    ,f\"WHEN ph.physical_bmi BETWEEN 25.0 AND 29.9 THEN 'Increased'\"\n",
    "    ,f\"WHEN ph.physical_bmi BETWEEN 30.0 AND 34.9 THEN 'High'\"\n",
    "    ,f\"WHEN ph.physical_bmi BETWEEN 35.0 AND 39.9 THEN 'Very High'\"\n",
    "    ,f\"WHEN ph.physical_bmi >= 40 THEN 'Extremely High'\"\n",
    "    ,f\"ph.physical_waist_circumference <= 35 AND aa.sex = '0'\"),\n",
    "  'Risk2':\n",
    "    (f\",CASE WHEN ph.physical_bmi < 18.5 THEN 'Underweight'\"\n",
    "    ,f\"WHEN ph.physical_bmi BETWEEN 18.5 AND 24.9 THEN 'Normal'\"\n",
    "    ,f\"WHEN ph.physical_bmi BETWEEN 25.0 AND 29.9 THEN 'High'\"\n",
    "    ,f\"WHEN ph.physical_bmi BETWEEN 30.0 AND 34.9 THEN 'Very High'\"\n",
    "    ,f\"WHEN ph.physical_bmi BETWEEN 35.0 AND 39.9 THEN 'Very High'\"\n",
    "    ,f\"WHEN ph.physical_bmi >= 40 THEN 'Extremely High'\"\n",
    "    ,f\"ph.physical_waist_circumference > 35 AND aa.sex = '0'\"),\n",
    "  'Risk3':\n",
    "    (f\",CASE WHEN ph.physical_bmi < 18.5 THEN 'Underweight'\"\n",
    "    ,f\"WHEN ph.physical_bmi BETWEEN 18.5 AND 24.9 THEN 'Normal'\"\n",
    "    ,f\"WHEN ph.physical_bmi BETWEEN 25.0 AND 29.9 THEN 'Increased'\"\n",
    "    ,f\"WHEN ph.physical_bmi BETWEEN 30.0 AND 34.9 THEN 'High'\"\n",
    "    ,f\"WHEN ph.physical_bmi BETWEEN 35.0 AND 39.9 THEN 'Very High'\"\n",
    "    ,f\"WHEN ph.physical_bmi >= 40 THEN 'Extremely High'\"\n",
    "    ,f\"ph.physical_waist_circumference <= 40 AND aa.sex = '1'\"),\n",
    "  'Risk4':\n",
    "    (f\",CASE WHEN ph.physical_bmi < 18.5 THEN 'Underweight'\"\n",
    "    ,f\"WHEN ph.physical_bmi BETWEEN 18.5 AND 24.9 THEN 'Normal'\"\n",
    "    ,f\"WHEN ph.physical_bmi BETWEEN 25.0 AND 29.9 THEN 'High'\"\n",
    "    ,f\"WHEN ph.physical_bmi BETWEEN 30.0 AND 34.9 THEN 'Very High'\"\n",
    "    ,f\"WHEN ph.physical_bmi BETWEEN 35.0 AND 39.9 THEN 'Very High'\"\n",
    "    ,f\"WHEN ph.physical_bmi >= 40 THEN 'Extremely High'\"\n",
    "    ,f\"ph.physical_waist_circumference > 40 AND aa.sex = '1'\")}"
   ],
   "id": "5f8ab44f"
  },
  {
   "cell_type": "code",
   "execution_count": 25,
   "metadata": {},
   "outputs": [
    {
     "output_type": "stream",
     "name": "stdout",
     "text": [
      "Successfully created table: Risk1, Row count: 24\n",
      "Successfully created table: Risk2, Row count: 1\n",
      "Successfully created table: Risk3, Row count: 20\n",
      "Successfully created table: Risk4, Row count: 2"
     ]
    }
   ],
   "source": [
    "riskyDf = pd.DataFrame(data = riskyDictionary)\n",
    "\n",
    "for key, value in riskyDf.items():\n",
    "  try:\n",
    "    conn.sql(f\"\"\"\n",
    "    CREATE OR REPLACE TABLE {key} AS\n",
    "    SELECT\n",
    "      aa.*\n",
    "      {value[0]}\n",
    "      {value[1]}\n",
    "      {value[2]}\n",
    "      {value[3]}\n",
    "      {value[4]}\n",
    "      {value[5]}\n",
    "      ELSE NULL\n",
    "      END AS risk_cat\n",
    "    ,risk_cat::disease_risk_enum AS risk_category\n",
    "    FROM \n",
    "      Physical ph \n",
    "    LEFT JOIN \n",
    "      AggregatedAnalysis aa \n",
    "    ON \n",
    "      aa.id = ph.id\n",
    "    WHERE \n",
    "      {value[6]}\n",
    "    ORDER BY \n",
    "      aa.id ASC;\"\"\")\n",
    "    result = conn.execute(f\"SELECT COUNT(*) FROM {key}\").fetchone()\n",
    "    print(f\"Successfully created table: {key}, Row count: {result[0]}\")\n",
    "  except:\n",
    "    print(f\"Error loading this table: {key}\")"
   ],
   "id": "82ab9251"
  },
  {
   "cell_type": "code",
   "execution_count": 26,
   "metadata": {
    "show": false
   },
   "outputs": [
    {
     "output_type": "display_data",
     "metadata": {},
     "data": {
      "text/html": [
       "</div>"
      ],
      "text/markdown": [
       "  id             enroll_season   age      sex     sii     min_q1      q1_q2       q2_q3        q3_max      useHrs   risk_cat          risk_category\n",
       "  -------------- --------------- -------- ------- ------- ----------- ----------- ------------ ----------- -------- ----------------- -----------------\n",
       "  cat            cat             cat      str     cat     f64         f64         f64          f64         f64      str               cat\n",
       "  \\\"0a431608\\\"   \\\"Summer\\\"      \\\"14\\\"   \\\"0\\\"   \\\"0\\\"   6.731606    35.982615   81.147116    8.063162    2.0      \\\"Increased\\\"     \\\"Increased\\\"\n",
       "  \\\"0bd89878\\\"   \\\"Spring\\\"      \\\"5\\\"    \\\"0\\\"   \\\"0\\\"   11.407345   29.880408   115.453317   15.384213   2.0      \\\"Underweight\\\"   \\\"Underweight\\\"\n",
       "  \\\"0e3b0bd2\\\"   \\\"Summer\\\"      \\\"7\\\"    \\\"0\\\"   \\\"0\\\"   6.617382    9.959858    17.035883    3.979032    0.0      \\\"Underweight\\\"   \\\"Underweight\\\"\n",
       "  \\\"15227eef\\\"   \\\"Summer\\\"      \\\"14\\\"   \\\"0\\\"   \\\"0\\\"   24.375328   45.810516   125.644462   27.6601     2.0      \\\"Underweight\\\"   \\\"Underweight\\\"\n",
       "  \\\"26190ddd\\\"   \\\"Summer\\\"      \\\"6\\\"    \\\"0\\\"   \\\"0\\\"   6.428962    41.666934   137.71611    7.783107    0.0      \\\"Underweight\\\"   \\\"Underweight\\\"\n",
       "  \\\"384c3f27\\\"   \\\"Spring\\\"      \\\"13\\\"   \\\"0\\\"   \\\"0\\\"   11.618201   89.469529   347.699492   37.244917   2.0      \\\"Normal\\\"        \\\"Normal\\\"\n",
       "  \\\"481a1861\\\"   \\\"Spring\\\"      \\\"12\\\"   \\\"0\\\"   \\\"0\\\"   3.882111    43.168523   111.272798   8.370623    0.0      \\\"Normal\\\"        \\\"Normal\\\"\n",
       "  \\\"4a1440d9\\\"   \\\"Winter\\\"      \\\"6\\\"    \\\"0\\\"   \\\"2\\\"   8.848081    7.197027    22.006593    10.268699   3.0      \\\"Normal\\\"        \\\"Normal\\\"\n",
       "  \\\"4f20b188\\\"   \\\"Spring\\\"      \\\"9\\\"    \\\"0\\\"   \\\"0\\\"   20.030769   65.26638    152.679505   11.461018   2.0      \\\"Underweight\\\"   \\\"Underweight\\\"\n",
       "  \\\"57f6fa6c\\\"   \\\"Spring\\\"      \\\"7\\\"    \\\"0\\\"   \\\"0\\\"   1.87365     18.732786   31.463943    8.549422    0.0      \\\"Underweight\\\"   \\\"Underweight\\\"\n"
      ]
     }
    }
   ],
   "source": [
    "conn.sql(f\"SELECT * FROM Risk1 LIMIT 10;\").pl()"
   ],
   "id": "b05361a8"
  },
  {
   "cell_type": "code",
   "execution_count": 27,
   "metadata": {},
   "outputs": [
    {
     "output_type": "display_data",
     "metadata": {},
     "data": {
      "text/html": [
       "</div>"
      ],
      "text/markdown": [
       "  id             enroll_season   age      sex     sii     min_q1      q1_q2        q2_q3        q3_max      useHrs   risk_category\n",
       "  -------------- --------------- -------- ------- ------- ----------- ------------ ------------ ----------- -------- -----------------\n",
       "  cat            cat             cat      str     cat     f64         f64          f64          f64         f64      cat\n",
       "  \\\"24ab10c6\\\"   \\\"Spring\\\"      \\\"7\\\"    \\\"1\\\"   \\\"1\\\"   8.961245    128.319678   243.107045   9.158707    0.0      \\\"Underweight\\\"\n",
       "  \\\"9e052412\\\"   \\\"Spring\\\"      \\\"6\\\"    \\\"1\\\"   \\\"0\\\"   16.643214   177.767591   328.259789   24.222833   0.0      \\\"Underweight\\\"\n",
       "  \\\"e0283d3d\\\"   \\\"Spring\\\"      \\\"9\\\"    \\\"1\\\"   \\\"0\\\"   48.136187   166.293198   243.704649   32.517071   0.0      \\\"Underweight\\\"\n",
       "  \\\"22375702\\\"   \\\"Summer\\\"      \\\"15\\\"   \\\"0\\\"   \\\"1\\\"   22.047492   17.418304    43.057034    14.289333   3.0      \\\"Very High\\\"\n",
       "  \\\"0a431608\\\"   \\\"Summer\\\"      \\\"14\\\"   \\\"0\\\"   \\\"0\\\"   6.731606    35.982615    81.147116    8.063162    2.0      \\\"Increased\\\"\n"
      ]
     }
    }
   ],
   "source": [
    "conn.sql(f\"\"\"\n",
    "CREATE OR REPLACE TABLE \n",
    "  DiseaseRiskDemographic AS\n",
    "SELECT * EXCLUDE(risk_cat) FROM Risk1\n",
    "UNION BY NAME\n",
    "SELECT * EXCLUDE(risk_cat) FROM Risk2\n",
    "UNION BY NAME\n",
    "SELECT * EXCLUDE(risk_cat) FROM Risk3\n",
    "UNION BY NAME \n",
    "SELECT * EXCLUDE(risk_cat) FROM Risk4;\n",
    "\"\"\")\n",
    "drd = conn.sql(f\"SELECT * FROM DiseaseRiskDemographic;\").pl()\n",
    "drd.head()"
   ],
   "id": "bf27526a"
  },
  {
   "cell_type": "code",
   "execution_count": 28,
   "metadata": {},
   "outputs": [
    {
     "output_type": "display_data",
     "metadata": {},
     "data": {
      "text/html": [
       "</div>"
      ],
      "text/markdown": [
       "  statistic        id       enroll_season   age      sex      sii      min_q1       q1_q2        q2_q3        q3_max       useHrs     risk_category\n",
       "  ---------------- -------- --------------- -------- -------- -------- ------------ ------------ ------------ ------------ ---------- ---------------\n",
       "  str              str      str             str      str      str      f64          f64          f64          f64          f64        str\n",
       "  \\\"count\\\"        \\\"47\\\"   \\\"47\\\"          \\\"47\\\"   \\\"47\\\"   \\\"47\\\"   47.0         47.0         47.0         47.0         47.0       \\\"47\\\"\n",
       "  \\\"null_count\\\"   \\\"0\\\"    \\\"0\\\"           \\\"0\\\"    \\\"0\\\"    \\\"0\\\"    0.0          0.0          0.0          0.0          0.0        \\\"0\\\"\n",
       "  \\\"mean\\\"         null     null            null     null     null     18.403943    63.537241    107.252398   17.258888    0.87234    null\n",
       "  \\\"std\\\"          null     null            null     null     null     24.019131    60.052882    95.578472    18.452803    1.095783   null\n",
       "  \\\"min\\\"          null     null            null     \\\"0\\\"    null     1.87365      7.197027     9.163458     2.824398     0.0        null\n",
       "  \\\"25%\\\"          null     null            null     null     null     6.15975      21.77304     39.445904    8.063162     0.0        null\n",
       "  \\\"50%\\\"          null     null            null     null     null     11.407345    43.173532    81.147116    11.491009    0.0        null\n",
       "  \\\"75%\\\"          null     null            null     null     null     20.030769    97.779626    141.459095   23.317043    2.0        null\n",
       "  \\\"max\\\"          null     null            null     \\\"1\\\"    null     127.422223   314.423213   385.640881   115.677067   3.0        null\n"
      ]
     }
    }
   ],
   "source": [
    "drd.describe()"
   ],
   "id": "47e1c1e4"
  },
  {
   "cell_type": "code",
   "execution_count": 29,
   "metadata": {},
   "outputs": [
    {
     "output_type": "display_data",
     "metadata": {},
     "data": {
      "text/html": [
       "</div>"
      ],
      "text/markdown": [
       "  risk_category        sii        useHrs     min_q1      q1_q2       q2_q3        q3_max\n",
       "  -------------------- ---------- ---------- ----------- ----------- ------------ -----------\n",
       "  cat                  f64        f64        f64         f64         f64          f64\n",
       "  \\\"Underweight\\\"      0.242424   0.575758   13.329569   66.487363   115.341389   13.197224\n",
       "  \\\"Normal\\\"           0.5        1.2        35.114416   61.236467   90.429617    30.352445\n",
       "  \\\"Increased\\\"        0.0        2.0        6.731606    35.982615   81.147116    8.063162\n",
       "  \\\"Very High\\\"        0.5        2.5        23.485938   35.474264   65.682302    19.553605\n",
       "  \\\"Extremely High\\\"   0.0        3.0        20.261906   72.871548   117.788953   24.96453\n"
      ]
     }
    }
   ],
   "source": [
    "conn.sql(f\"\"\"\n",
    "CREATE OR REPLACE TABLE RiskCategorySummary AS\n",
    "SELECT \n",
    "  risk_category\n",
    "  ,AVG(sii::INTEGER) AS sii\n",
    "  ,AVG(useHrs) AS useHrs\n",
    "  ,AVG(min_q1) AS min_q1\n",
    "  ,AVG(q1_q2) AS q1_q2\n",
    "  ,AVG(q2_q3) AS q2_q3\n",
    "  ,AVG(q3_max) AS q3_max\n",
    "FROM \n",
    "  DiseaseRiskDemographic\n",
    "GROUP BY \n",
    "  risk_category;\n",
    "\"\"\")\n",
    "rcs = conn.sql(f\"SELECT * FROM RiskCategorySummary;\").pl()\n",
    "rcs.head()"
   ],
   "id": "852478e1"
  },
  {
   "cell_type": "code",
   "execution_count": 30,
   "metadata": {},
   "outputs": [
    {
     "output_type": "display_data",
     "metadata": {},
     "data": {
      "text/html": [
       "</div>"
      ],
      "text/markdown": [
       "  statistic        risk_category   sii        useHrs     min_q1      q1_q2       q2_q3        q3_max\n",
       "  ---------------- --------------- ---------- ---------- ----------- ----------- ------------ -----------\n",
       "  str              str             f64        f64        f64         f64         f64          f64\n",
       "  \\\"count\\\"        \\\"5\\\"           5.0        5.0        5.0         5.0         5.0          5.0\n",
       "  \\\"null_count\\\"   \\\"0\\\"           0.0        0.0        0.0         0.0         0.0          0.0\n",
       "  \\\"mean\\\"         null            0.248485   1.855152   19.784687   54.410451   94.077876    19.226193\n",
       "  \\\"std\\\"          null            0.250023   0.976417   10.735212   17.545816   22.367248    8.913346\n",
       "  \\\"min\\\"          null            0.0        0.575758   6.731606    35.474264   65.682302    8.063162\n",
       "  \\\"25%\\\"          null            0.0        1.2        13.329569   35.982615   81.147116    13.197224\n",
       "  \\\"50%\\\"          null            0.242424   2.0        20.261906   61.236467   90.429617    19.553605\n",
       "  \\\"75%\\\"          null            0.5        2.5        23.485938   66.487363   115.341389   24.96453\n",
       "  \\\"max\\\"          null            0.5        3.0        35.114416   72.871548   117.788953   30.352445\n"
      ]
     }
    }
   ],
   "source": [
    "rcs.describe()"
   ],
   "id": "3d28cfae"
  },
  {
   "cell_type": "code",
   "execution_count": 31,
   "metadata": {},
   "outputs": [
    {
     "output_type": "display_data",
     "metadata": {},
     "data": {
      "text/html": [
       "\n",
       "<p>107 rows × 5 columns</p>\n",
       "</div>"
      ],
      "text/markdown": [
       "         name                         value             description                                          input_type   scope\n",
       "  ------ ---------------------------- ----------------- ---------------------------------------------------- ------------ --------\n",
       "  0      access_mode                  automatic         Access mode of the database (AUTOMATIC, READ_O\\...   VARCHAR      GLOBAL\n",
       "  1      allow_persistent_secrets     true              Allow the creation of persistent secrets, that\\...   BOOLEAN      GLOBAL\n",
       "  2      catalog_error_max_schemas    100               The maximum number of schemas the system will \\...   UBIGINT      GLOBAL\n",
       "  3      checkpoint_threshold         16.0 MiB          The WAL size threshold at which to automatical\\...   VARCHAR      GLOBAL\n",
       "  4      debug_checkpoint_abort       none              DEBUG SETTING: trigger an abort while checkpoi\\...   VARCHAR      GLOBAL\n",
       "  \\...   \\...                         \\...              \\...                                                 \\...         \\...\n",
       "  102    Calendar                     gregorian         The current calendar                                 VARCHAR      GLOBAL\n",
       "  103    python_scan_all_frames       false             If set, restores the old behavior of scanning \\...   BOOLEAN      GLOBAL\n",
       "  104    TimeZone                     America/Chicago   The current time zone                                VARCHAR      GLOBAL\n",
       "  105    python_enable_replacements   true              Whether variables visible to the current stack\\...   BOOLEAN      GLOBAL\n",
       "  106    pandas_analyze_sample        1000              The maximum number of rows to sample when anal\\...   UBIGINT      GLOBAL\n"
      ]
     }
    }
   ],
   "source": [
    "settings_info = conn.execute(f\"SELECT * FROM duckdb_settings();\").df()\n",
    "settings_info"
   ],
   "id": "acb8c1ad"
  },
  {
   "cell_type": "code",
   "execution_count": 32,
   "metadata": {
    "file": null
   },
   "outputs": [],
   "source": [
    "conn.close()"
   ],
   "id": "44ad033e"
  }
 ],
 "nbformat": 4,
 "nbformat_minor": 5,
 "metadata": {}
}
